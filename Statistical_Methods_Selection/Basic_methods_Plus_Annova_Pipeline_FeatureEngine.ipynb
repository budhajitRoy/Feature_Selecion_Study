{
 "cells": [
  {
   "cell_type": "markdown",
   "id": "782f0a96",
   "metadata": {},
   "source": [
    "## Basic methods plus correlation + Annova with Feature-engine & Scikit Learn \n",
    "\n",
    "In this notebook, we will apply basic methods to remove constant, quasi-constant and duplicated features, followed up by removing correlated features, and then applying selection of features using Annova in 1 single step, using Feature-engine and the Scikit-learn."
   ]
  },
  {
   "cell_type": "code",
   "execution_count": 22,
   "id": "c0e52d37",
   "metadata": {},
   "outputs": [],
   "source": [
    "# import libraries\n",
    "\n",
    "import numpy as np\n",
    "import pandas as pd\n",
    "\n",
    "from sklearn.model_selection import train_test_split\n",
    "from sklearn.linear_model import LogisticRegression\n",
    "from sklearn.ensemble import RandomForestClassifier\n",
    "from sklearn.metrics import roc_auc_score\n",
    "from sklearn.preprocessing import StandardScaler\n",
    "\n",
    "# to get the univarate annova p values \n",
    "from sklearn.feature_selection import f_classif, SelectKBest\n",
    "\n",
    "from feature_engine.selection import (\n",
    "    DropConstantFeatures,\n",
    "    DropDuplicateFeatures,\n",
    "    SmartCorrelatedSelection \n",
    ")"
   ]
  },
  {
   "cell_type": "code",
   "execution_count": 2,
   "id": "b9cea455",
   "metadata": {},
   "outputs": [
    {
     "data": {
      "text/html": [
       "<div>\n",
       "<style scoped>\n",
       "    .dataframe tbody tr th:only-of-type {\n",
       "        vertical-align: middle;\n",
       "    }\n",
       "\n",
       "    .dataframe tbody tr th {\n",
       "        vertical-align: top;\n",
       "    }\n",
       "\n",
       "    .dataframe thead th {\n",
       "        text-align: right;\n",
       "    }\n",
       "</style>\n",
       "<table border=\"1\" class=\"dataframe\">\n",
       "  <thead>\n",
       "    <tr style=\"text-align: right;\">\n",
       "      <th></th>\n",
       "      <th>var_1</th>\n",
       "      <th>var_2</th>\n",
       "      <th>var_3</th>\n",
       "      <th>var_4</th>\n",
       "      <th>var_5</th>\n",
       "      <th>var_6</th>\n",
       "      <th>var_7</th>\n",
       "      <th>var_8</th>\n",
       "      <th>var_9</th>\n",
       "      <th>var_10</th>\n",
       "      <th>...</th>\n",
       "      <th>var_292</th>\n",
       "      <th>var_293</th>\n",
       "      <th>var_294</th>\n",
       "      <th>var_295</th>\n",
       "      <th>var_296</th>\n",
       "      <th>var_297</th>\n",
       "      <th>var_298</th>\n",
       "      <th>var_299</th>\n",
       "      <th>var_300</th>\n",
       "      <th>target</th>\n",
       "    </tr>\n",
       "  </thead>\n",
       "  <tbody>\n",
       "    <tr>\n",
       "      <th>0</th>\n",
       "      <td>0</td>\n",
       "      <td>0</td>\n",
       "      <td>0.0</td>\n",
       "      <td>0.00</td>\n",
       "      <td>0.0</td>\n",
       "      <td>0</td>\n",
       "      <td>0</td>\n",
       "      <td>0</td>\n",
       "      <td>0</td>\n",
       "      <td>0</td>\n",
       "      <td>...</td>\n",
       "      <td>0.0</td>\n",
       "      <td>0</td>\n",
       "      <td>0</td>\n",
       "      <td>0</td>\n",
       "      <td>0</td>\n",
       "      <td>0</td>\n",
       "      <td>0</td>\n",
       "      <td>0.0</td>\n",
       "      <td>0.0000</td>\n",
       "      <td>0</td>\n",
       "    </tr>\n",
       "    <tr>\n",
       "      <th>1</th>\n",
       "      <td>0</td>\n",
       "      <td>0</td>\n",
       "      <td>0.0</td>\n",
       "      <td>3.00</td>\n",
       "      <td>0.0</td>\n",
       "      <td>0</td>\n",
       "      <td>0</td>\n",
       "      <td>0</td>\n",
       "      <td>0</td>\n",
       "      <td>0</td>\n",
       "      <td>...</td>\n",
       "      <td>0.0</td>\n",
       "      <td>0</td>\n",
       "      <td>0</td>\n",
       "      <td>0</td>\n",
       "      <td>0</td>\n",
       "      <td>0</td>\n",
       "      <td>0</td>\n",
       "      <td>0.0</td>\n",
       "      <td>0.0000</td>\n",
       "      <td>0</td>\n",
       "    </tr>\n",
       "    <tr>\n",
       "      <th>2</th>\n",
       "      <td>0</td>\n",
       "      <td>0</td>\n",
       "      <td>0.0</td>\n",
       "      <td>5.88</td>\n",
       "      <td>0.0</td>\n",
       "      <td>0</td>\n",
       "      <td>0</td>\n",
       "      <td>0</td>\n",
       "      <td>0</td>\n",
       "      <td>0</td>\n",
       "      <td>...</td>\n",
       "      <td>0.0</td>\n",
       "      <td>0</td>\n",
       "      <td>0</td>\n",
       "      <td>3</td>\n",
       "      <td>0</td>\n",
       "      <td>0</td>\n",
       "      <td>0</td>\n",
       "      <td>0.0</td>\n",
       "      <td>67772.7216</td>\n",
       "      <td>0</td>\n",
       "    </tr>\n",
       "    <tr>\n",
       "      <th>3</th>\n",
       "      <td>0</td>\n",
       "      <td>0</td>\n",
       "      <td>0.0</td>\n",
       "      <td>14.10</td>\n",
       "      <td>0.0</td>\n",
       "      <td>0</td>\n",
       "      <td>0</td>\n",
       "      <td>0</td>\n",
       "      <td>0</td>\n",
       "      <td>0</td>\n",
       "      <td>...</td>\n",
       "      <td>0.0</td>\n",
       "      <td>0</td>\n",
       "      <td>0</td>\n",
       "      <td>0</td>\n",
       "      <td>0</td>\n",
       "      <td>0</td>\n",
       "      <td>0</td>\n",
       "      <td>0.0</td>\n",
       "      <td>0.0000</td>\n",
       "      <td>0</td>\n",
       "    </tr>\n",
       "    <tr>\n",
       "      <th>4</th>\n",
       "      <td>0</td>\n",
       "      <td>0</td>\n",
       "      <td>0.0</td>\n",
       "      <td>5.76</td>\n",
       "      <td>0.0</td>\n",
       "      <td>0</td>\n",
       "      <td>0</td>\n",
       "      <td>0</td>\n",
       "      <td>0</td>\n",
       "      <td>0</td>\n",
       "      <td>...</td>\n",
       "      <td>0.0</td>\n",
       "      <td>0</td>\n",
       "      <td>0</td>\n",
       "      <td>0</td>\n",
       "      <td>0</td>\n",
       "      <td>0</td>\n",
       "      <td>0</td>\n",
       "      <td>0.0</td>\n",
       "      <td>0.0000</td>\n",
       "      <td>0</td>\n",
       "    </tr>\n",
       "  </tbody>\n",
       "</table>\n",
       "<p>5 rows × 301 columns</p>\n",
       "</div>"
      ],
      "text/plain": [
       "   var_1  var_2  var_3  var_4  var_5  var_6  var_7  var_8  var_9  var_10  ...  \\\n",
       "0      0      0    0.0   0.00    0.0      0      0      0      0       0  ...   \n",
       "1      0      0    0.0   3.00    0.0      0      0      0      0       0  ...   \n",
       "2      0      0    0.0   5.88    0.0      0      0      0      0       0  ...   \n",
       "3      0      0    0.0  14.10    0.0      0      0      0      0       0  ...   \n",
       "4      0      0    0.0   5.76    0.0      0      0      0      0       0  ...   \n",
       "\n",
       "   var_292  var_293  var_294  var_295  var_296  var_297  var_298  var_299  \\\n",
       "0      0.0        0        0        0        0        0        0      0.0   \n",
       "1      0.0        0        0        0        0        0        0      0.0   \n",
       "2      0.0        0        0        3        0        0        0      0.0   \n",
       "3      0.0        0        0        0        0        0        0      0.0   \n",
       "4      0.0        0        0        0        0        0        0      0.0   \n",
       "\n",
       "      var_300  target  \n",
       "0      0.0000       0  \n",
       "1      0.0000       0  \n",
       "2  67772.7216       0  \n",
       "3      0.0000       0  \n",
       "4      0.0000       0  \n",
       "\n",
       "[5 rows x 301 columns]"
      ]
     },
     "execution_count": 2,
     "metadata": {},
     "output_type": "execute_result"
    }
   ],
   "source": [
    "# load data\n",
    "\n",
    "data = pd.read_csv('..\\precleaned-datasets\\dataset_1.csv')\n",
    "data.head()"
   ]
  },
  {
   "cell_type": "code",
   "execution_count": 3,
   "id": "0e755e81",
   "metadata": {},
   "outputs": [
    {
     "name": "stdout",
     "output_type": "stream",
     "text": [
      "<class 'pandas.core.frame.DataFrame'>\n",
      "RangeIndex: 50000 entries, 0 to 49999\n",
      "Columns: 301 entries, var_1 to target\n",
      "dtypes: float64(127), int64(174)\n",
      "memory usage: 114.8 MB\n"
     ]
    }
   ],
   "source": [
    "data.info()"
   ]
  },
  {
   "cell_type": "code",
   "execution_count": 4,
   "id": "488af368",
   "metadata": {},
   "outputs": [
    {
     "data": {
      "text/plain": [
       "((35000, 300), (15000, 300))"
      ]
     },
     "execution_count": 4,
     "metadata": {},
     "output_type": "execute_result"
    }
   ],
   "source": [
    "# separate dataset into train and test\n",
    "X_train, X_test, y_train, y_test = train_test_split(\n",
    "    data.drop(labels=['target'], axis=1),\n",
    "    data['target'],\n",
    "    test_size=0.3,\n",
    "    random_state=0)\n",
    "\n",
    "X_train.shape, X_test.shape"
   ]
  },
  {
   "cell_type": "code",
   "execution_count": 5,
   "id": "955020c0",
   "metadata": {},
   "outputs": [],
   "source": [
    "# create a copy of the original data\n",
    "X_train_original = X_train.copy()\n",
    "X_test_original = X_test.copy()"
   ]
  },
  {
   "cell_type": "markdown",
   "id": "f8d9b261",
   "metadata": {},
   "source": [
    "### Remove constant and Quasi Constant features"
   ]
  },
  {
   "cell_type": "code",
   "execution_count": 9,
   "id": "3bf45156",
   "metadata": {},
   "outputs": [],
   "source": [
    "# remove the constant and quasi constant using feature_engine\n",
    "\n",
    "constant = DropConstantFeatures(tol=0.998, missing_values='ignore')"
   ]
  },
  {
   "cell_type": "code",
   "execution_count": 10,
   "id": "22eaa645",
   "metadata": {},
   "outputs": [
    {
     "data": {
      "text/plain": [
       "DropConstantFeatures(missing_values='ignore', tol=0.998,\n",
       "                     variables=['var_1', 'var_2', 'var_3', 'var_4', 'var_5',\n",
       "                                'var_6', 'var_7', 'var_8', 'var_9', 'var_10',\n",
       "                                'var_11', 'var_12', 'var_13', 'var_14',\n",
       "                                'var_15', 'var_16', 'var_17', 'var_18',\n",
       "                                'var_19', 'var_20', 'var_21', 'var_22',\n",
       "                                'var_23', 'var_24', 'var_25', 'var_26',\n",
       "                                'var_27', 'var_28', 'var_29', 'var_30', ...])"
      ]
     },
     "execution_count": 10,
     "metadata": {},
     "output_type": "execute_result"
    }
   ],
   "source": [
    "# fit using the X_train data\n",
    "constant.fit(X_train)"
   ]
  },
  {
   "cell_type": "code",
   "execution_count": 11,
   "id": "e20b8f20",
   "metadata": {},
   "outputs": [],
   "source": [
    "# remove the constant and quasi constant features\n",
    "\n",
    "X_train = constant.transform(X_train)\n",
    "X_test = constant.transform(X_test)"
   ]
  },
  {
   "cell_type": "code",
   "execution_count": 12,
   "id": "84211707",
   "metadata": {},
   "outputs": [
    {
     "data": {
      "text/plain": [
       "((35000, 158), (15000, 158))"
      ]
     },
     "execution_count": 12,
     "metadata": {},
     "output_type": "execute_result"
    }
   ],
   "source": [
    "X_train.shape, X_test.shape"
   ]
  },
  {
   "cell_type": "markdown",
   "id": "c7f698a4",
   "metadata": {},
   "source": [
    "## Remove duplicated features"
   ]
  },
  {
   "cell_type": "code",
   "execution_count": 13,
   "id": "660e4248",
   "metadata": {},
   "outputs": [
    {
     "data": {
      "text/plain": [
       "DropDuplicateFeatures(variables=['var_4', 'var_5', 'var_8', 'var_13', 'var_15',\n",
       "                                 'var_17', 'var_18', 'var_19', 'var_21',\n",
       "                                 'var_22', 'var_25', 'var_26', 'var_27',\n",
       "                                 'var_29', 'var_30', 'var_31', 'var_35',\n",
       "                                 'var_37', 'var_38', 'var_41', 'var_46',\n",
       "                                 'var_47', 'var_49', 'var_50', 'var_51',\n",
       "                                 'var_52', 'var_54', 'var_55', 'var_57',\n",
       "                                 'var_58', ...])"
      ]
     },
     "execution_count": 13,
     "metadata": {},
     "output_type": "execute_result"
    }
   ],
   "source": [
    "# initialize the object\n",
    "duplicates = DropDuplicateFeatures(variables=None, missing_values='ignore')\n",
    "\n",
    "# fit it using the training data\n",
    "duplicates.fit(X_train)"
   ]
  },
  {
   "cell_type": "code",
   "execution_count": 14,
   "id": "db3e13ee",
   "metadata": {},
   "outputs": [
    {
     "data": {
      "text/plain": [
       "{'var_148', 'var_199', 'var_232', 'var_250', 'var_269', 'var_296'}"
      ]
     },
     "execution_count": 14,
     "metadata": {},
     "output_type": "execute_result"
    }
   ],
   "source": [
    "# remove the duplicate features\n",
    "duplicates.features_to_drop_"
   ]
  },
  {
   "cell_type": "code",
   "execution_count": 15,
   "id": "4729666c",
   "metadata": {},
   "outputs": [],
   "source": [
    "X_train = duplicates.transform(X_train)\n",
    "X_test = duplicates.transform(X_test)"
   ]
  },
  {
   "cell_type": "code",
   "execution_count": 16,
   "id": "20f58bba",
   "metadata": {},
   "outputs": [
    {
     "data": {
      "text/plain": [
       "((35000, 152), (15000, 152))"
      ]
     },
     "execution_count": 16,
     "metadata": {},
     "output_type": "execute_result"
    }
   ],
   "source": [
    "X_train.shape, X_test.shape"
   ]
  },
  {
   "cell_type": "code",
   "execution_count": 17,
   "id": "0b1547a1",
   "metadata": {},
   "outputs": [],
   "source": [
    "# I keep a copy of the dataset except constant and duplicated variables\n",
    "# to measure the performance of machine learning models\n",
    "# at the end of the notebook\n",
    "\n",
    "X_train_basic_filter = X_train.copy()\n",
    "X_test_basic_filter = X_test.copy()"
   ]
  },
  {
   "cell_type": "markdown",
   "id": "bd9f5eb6",
   "metadata": {},
   "source": [
    "## Remove Correlated features"
   ]
  },
  {
   "cell_type": "code",
   "execution_count": 18,
   "id": "a76507c6",
   "metadata": {},
   "outputs": [
    {
     "data": {
      "text/plain": [
       "SmartCorrelatedSelection(selection_method='variance',\n",
       "                         variables=['var_4', 'var_5', 'var_8', 'var_13',\n",
       "                                    'var_15', 'var_17', 'var_18', 'var_19',\n",
       "                                    'var_21', 'var_22', 'var_25', 'var_26',\n",
       "                                    'var_27', 'var_29', 'var_30', 'var_31',\n",
       "                                    'var_35', 'var_37', 'var_38', 'var_41',\n",
       "                                    'var_46', 'var_47', 'var_49', 'var_50',\n",
       "                                    'var_51', 'var_52', 'var_54', 'var_55',\n",
       "                                    'var_57', 'var_58', ...])"
      ]
     },
     "execution_count": 18,
     "metadata": {},
     "output_type": "execute_result"
    }
   ],
   "source": [
    "corr = SmartCorrelatedSelection(variables=None,\n",
    "                                method='pearson',\n",
    "                                threshold=0.8,\n",
    "                                selection_method='variance')\n",
    "\n",
    "corr.fit(X_train)"
   ]
  },
  {
   "cell_type": "code",
   "execution_count": 19,
   "id": "13854abc",
   "metadata": {},
   "outputs": [
    {
     "data": {
      "text/plain": [
       "[{'var_262', 'var_4'},\n",
       " {'var_281', 'var_8'},\n",
       " {'var_132', 'var_15', 'var_152'},\n",
       " {'var_101', 'var_18'},\n",
       " {'var_172', 'var_19', 'var_51', 'var_54'},\n",
       " {'var_21', 'var_55'},\n",
       " {'var_139', 'var_156', 'var_26'},\n",
       " {'var_165', 'var_213', 'var_27'},\n",
       " {'var_222', 'var_253', 'var_30', 'var_300', 'var_86'},\n",
       " {'var_175', 'var_179', 'var_31', 'var_62'},\n",
       " {'var_143', 'var_168', 'var_229', 'var_270', 'var_37'},\n",
       " {'var_117', 'var_155', 'var_259', 'var_284', 'var_295', 'var_38', 'var_88'},\n",
       " {'var_186', 'var_41', 'var_93'},\n",
       " {'var_47', 'var_64'},\n",
       " {'var_145', 'var_161', 'var_190', 'var_50'},\n",
       " {'var_103', 'var_123', 'var_160', 'var_162', 'var_163', 'var_258', 'var_52'},\n",
       " {'var_203', 'var_57'},\n",
       " {'var_107', 'var_114', 'var_58'},\n",
       " {'var_176', 'var_209', 'var_241', 'var_70'},\n",
       " {'var_121', 'var_164', 'var_226', 'var_252', 'var_83'},\n",
       " {'var_177', 'var_198', 'var_84', 'var_94'},\n",
       " {'var_105', 'var_166', 'var_255', 'var_91'},\n",
       " {'var_100', 'var_214', 'var_96'},\n",
       " {'var_108', 'var_191'},\n",
       " {'var_118', 'var_140', 'var_192', 'var_207', 'var_277', 'var_279'},\n",
       " {'var_137', 'var_218', 'var_273'},\n",
       " {'var_144', 'var_261'},\n",
       " {'var_174', 'var_275'},\n",
       " {'var_194', 'var_238', 'var_278'},\n",
       " {'var_220', 'var_244', 'var_272'}]"
      ]
     },
     "execution_count": 19,
     "metadata": {},
     "output_type": "execute_result"
    }
   ],
   "source": [
    "corr.correlated_feature_sets_"
   ]
  },
  {
   "cell_type": "code",
   "execution_count": 20,
   "id": "a1965bc0",
   "metadata": {},
   "outputs": [
    {
     "data": {
      "text/plain": [
       "((15000, 78), (15000, 78))"
      ]
     },
     "execution_count": 20,
     "metadata": {},
     "output_type": "execute_result"
    }
   ],
   "source": [
    "# drop the correlated features\n",
    "\n",
    "X_train = corr.transform(X_train)\n",
    "X_test = corr.transform(X_test)\n",
    "\n",
    "X_test.shape, X_test.shape"
   ]
  },
  {
   "cell_type": "code",
   "execution_count": 21,
   "id": "c4b3b3da",
   "metadata": {},
   "outputs": [],
   "source": [
    "# keep a copy of the dataset at  this stage\n",
    "X_train_corr = X_train.copy()\n",
    "X_test_corr = X_test.copy()"
   ]
  },
  {
   "cell_type": "markdown",
   "id": "4db81eff",
   "metadata": {},
   "source": [
    "## Select features based on Annova"
   ]
  },
  {
   "cell_type": "code",
   "execution_count": 23,
   "id": "80a44e9e",
   "metadata": {},
   "outputs": [],
   "source": [
    "sel_ = SelectKBest(f_classif, k =20).fit(X_train, y_train)"
   ]
  },
  {
   "cell_type": "code",
   "execution_count": 26,
   "id": "b6f1d0d3",
   "metadata": {},
   "outputs": [
    {
     "data": {
      "text/plain": [
       "Index(['var_4', 'var_15', 'var_35', 'var_46', 'var_47', 'var_49', 'var_62',\n",
       "       'var_79', 'var_82', 'var_107', 'var_110', 'var_163', 'var_169',\n",
       "       'var_174', 'var_181', 'var_209', 'var_222', 'var_230', 'var_231',\n",
       "       'var_259'],\n",
       "      dtype='object')"
      ]
     },
     "execution_count": 26,
     "metadata": {},
     "output_type": "execute_result"
    }
   ],
   "source": [
    "features_to_keep = X_train.columns[sel_.get_support()]\n",
    "features_to_keep"
   ]
  },
  {
   "cell_type": "code",
   "execution_count": 27,
   "id": "299c378b",
   "metadata": {},
   "outputs": [],
   "source": [
    "# transform the data\n",
    "X_train_annova = sel_.transform(X_train)\n",
    "X_test_annova = sel_.transform(X_test)"
   ]
  },
  {
   "cell_type": "code",
   "execution_count": 29,
   "id": "d26f5ee3",
   "metadata": {},
   "outputs": [
    {
     "data": {
      "text/plain": [
       "((35000, 20), (15000, 20))"
      ]
     },
     "execution_count": 29,
     "metadata": {},
     "output_type": "execute_result"
    }
   ],
   "source": [
    "# numpy array to dataframe\n",
    "X_train_anova = pd.DataFrame(X_train_annova)\n",
    "X_train_anova.columns = features_to_keep\n",
    "\n",
    "X_test_anova = pd.DataFrame(X_test_annova)\n",
    "X_test_anova.columns = features_to_keep\n",
    "\n",
    "X_train_anova.shape, X_test_anova.shape"
   ]
  },
  {
   "cell_type": "markdown",
   "id": "3beca64d",
   "metadata": {},
   "source": [
    "## Compare the performance in ML Algos"
   ]
  },
  {
   "cell_type": "code",
   "execution_count": 30,
   "id": "e2ca64c6",
   "metadata": {},
   "outputs": [],
   "source": [
    "# create a function to build random forests and\n",
    "# compare its performance in train and test sets\n",
    "\n",
    "def run_randomForests(X_train, X_test, y_train, y_test):\n",
    "    \n",
    "    rf = RandomForestClassifier(n_estimators=200, random_state=39, max_depth=4)\n",
    "    rf.fit(X_train, y_train)\n",
    "    \n",
    "    print('Train set')\n",
    "    pred = rf.predict_proba(X_train)\n",
    "    print('Random Forests roc-auc: {}'.format(roc_auc_score(y_train, pred[:,1])))\n",
    "    \n",
    "    print('Test set')\n",
    "    pred = rf.predict_proba(X_test)\n",
    "    print('Random Forests roc-auc: {}'.format(roc_auc_score(y_test, pred[:,1])))"
   ]
  },
  {
   "cell_type": "code",
   "execution_count": 31,
   "id": "c73d440c",
   "metadata": {},
   "outputs": [
    {
     "name": "stdout",
     "output_type": "stream",
     "text": [
      "Train set\n",
      "Random Forests roc-auc: 0.807612232524249\n",
      "Test set\n",
      "Random Forests roc-auc: 0.7868832427636059\n"
     ]
    }
   ],
   "source": [
    "# original\n",
    "run_randomForests(X_train_original,\n",
    "                  X_test_original,\n",
    "                  y_train, y_test)"
   ]
  },
  {
   "cell_type": "code",
   "execution_count": 32,
   "id": "1665c7a3",
   "metadata": {},
   "outputs": [
    {
     "name": "stdout",
     "output_type": "stream",
     "text": [
      "Train set\n",
      "Random Forests roc-auc: 0.808688948214592\n",
      "Test set\n",
      "Random Forests roc-auc: 0.7902268905900738\n"
     ]
    }
   ],
   "source": [
    "# filter methods - basic\n",
    "run_randomForests(X_train_basic_filter,\n",
    "                  X_test_basic_filter,\n",
    "                  y_train, y_test)"
   ]
  },
  {
   "cell_type": "code",
   "execution_count": 33,
   "id": "25db4a94",
   "metadata": {},
   "outputs": [
    {
     "name": "stdout",
     "output_type": "stream",
     "text": [
      "Train set\n",
      "Random Forests roc-auc: 0.8137741474286087\n",
      "Test set\n",
      "Random Forests roc-auc: 0.7928863342856578\n"
     ]
    }
   ],
   "source": [
    "# filter methods - correlation\n",
    "run_randomForests(X_train_corr,\n",
    "                  X_test_corr,\n",
    "                  y_train, y_test)"
   ]
  },
  {
   "cell_type": "code",
   "execution_count": 34,
   "id": "40d39ac5",
   "metadata": {},
   "outputs": [
    {
     "name": "stdout",
     "output_type": "stream",
     "text": [
      "Train set\n",
      "Random Forests roc-auc: 0.8165521002785939\n",
      "Test set\n",
      "Random Forests roc-auc: 0.7980865343585657\n"
     ]
    }
   ],
   "source": [
    "# filter methods - univariate roc-auc\n",
    "run_randomForests(X_train_anova,\n",
    "                  X_test_anova,\n",
    "                  y_train, y_test)"
   ]
  },
  {
   "cell_type": "markdown",
   "id": "22b3936b",
   "metadata": {},
   "source": [
    "As we see, the 20 features we selected using the univariate anova are doing a good job, as the final model does not show a decrease in performance compared to that one using all features."
   ]
  },
  {
   "cell_type": "code",
   "execution_count": 39,
   "id": "3da3183f",
   "metadata": {},
   "outputs": [],
   "source": [
    "# create a function to run a logistic regression and compare performance between train and test\n",
    "\n",
    "def run_logistic(X_train, X_test, y_train, y_test):\n",
    "    \n",
    "    scaler = StandardScaler()\n",
    "    X_train = scaler.fit_transform(X_train)\n",
    "    X_test = scaler.transform(X_test)\n",
    "\n",
    "    log = LogisticRegression(random_state=44, max_iter=1000, solver='liblinear')\n",
    "    \n",
    "    log.fit(X_train, y_train)\n",
    "    \n",
    "    pred_train = log.predict_proba(X_train)[:,1]\n",
    "    pred_test = log.predict_proba(X_test)[:,1]\n",
    "    \n",
    "    print('ROC AUC for train : {}'.format(roc_auc_score(y_train, pred_train)))\n",
    "    print('ROC AUC for test : {}'.format(roc_auc_score(y_test, pred_test)))"
   ]
  },
  {
   "cell_type": "code",
   "execution_count": 40,
   "id": "5cf40b4d",
   "metadata": {},
   "outputs": [
    {
     "name": "stdout",
     "output_type": "stream",
     "text": [
      "ROC AUC for train : 0.8027921164077154\n",
      "ROC AUC for test : 0.795130315849561\n"
     ]
    }
   ],
   "source": [
    "# original\n",
    "run_logistic(X_train_original,\n",
    "             X_test_original,\n",
    "             y_train, y_test)"
   ]
  },
  {
   "cell_type": "code",
   "execution_count": 41,
   "id": "9a94d898",
   "metadata": {},
   "outputs": [
    {
     "name": "stdout",
     "output_type": "stream",
     "text": [
      "ROC AUC for train : 0.7998301107943384\n",
      "ROC AUC for test : 0.7961601826654346\n"
     ]
    }
   ],
   "source": [
    "# filter methods - basic\n",
    "\n",
    "run_logistic(X_train_basic_filter,\n",
    "             X_test_basic_filter,\n",
    "             y_train, y_test)"
   ]
  },
  {
   "cell_type": "code",
   "execution_count": 42,
   "id": "6a6a662e",
   "metadata": {},
   "outputs": [
    {
     "name": "stdout",
     "output_type": "stream",
     "text": [
      "ROC AUC for train : 0.7919402115875149\n",
      "ROC AUC for test : 0.7886070347669065\n"
     ]
    }
   ],
   "source": [
    "# filter methods - correlation\n",
    "\n",
    "run_logistic(X_train_corr,\n",
    "             X_test_corr,\n",
    "             y_train, y_test)"
   ]
  },
  {
   "cell_type": "code",
   "execution_count": 43,
   "id": "49e75776",
   "metadata": {},
   "outputs": [
    {
     "name": "stdout",
     "output_type": "stream",
     "text": [
      "ROC AUC for train : 0.7826667664362111\n",
      "ROC AUC for test : 0.7752420514820374\n"
     ]
    }
   ],
   "source": [
    "# filter methods - univariate anova\n",
    "\n",
    "run_logistic(X_train_anova,\n",
    "             X_test_anova,\n",
    "             y_train, y_test)"
   ]
  },
  {
   "cell_type": "markdown",
   "id": "6188c767",
   "metadata": {},
   "source": [
    "For logistic regression, we see that when we removed correlated features, we seemed to have removed some features that were good at predicting the target, as the performance dropped a bit.\n",
    "\n",
    "We can try by applying the univariate anova without removing features by correlation, to see if the selected features are good enough."
   ]
  },
  {
   "cell_type": "code",
   "execution_count": null,
   "id": "23757d99",
   "metadata": {},
   "outputs": [],
   "source": []
  }
 ],
 "metadata": {
  "kernelspec": {
   "display_name": "Python 3 (ipykernel)",
   "language": "python",
   "name": "python3"
  },
  "language_info": {
   "codemirror_mode": {
    "name": "ipython",
    "version": 3
   },
   "file_extension": ".py",
   "mimetype": "text/x-python",
   "name": "python",
   "nbconvert_exporter": "python",
   "pygments_lexer": "ipython3",
   "version": "3.9.5"
  }
 },
 "nbformat": 4,
 "nbformat_minor": 5
}
