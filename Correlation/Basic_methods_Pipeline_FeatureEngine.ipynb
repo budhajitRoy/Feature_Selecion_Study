{
 "cells": [
  {
   "cell_type": "markdown",
   "id": "782f0a96",
   "metadata": {},
   "source": [
    "## Basic methods plus correlation pipeline with Feature-engine\n",
    "\n",
    "In this notebook, we will apply basic methods to remove constant, quasi-constant and duplicated features, followed up by removing correlated features, in 1 single step, using Feature-engine and the Scikit-learn Pipeline."
   ]
  },
  {
   "cell_type": "code",
   "execution_count": 1,
   "id": "c0e52d37",
   "metadata": {},
   "outputs": [],
   "source": [
    "# import libraries\n",
    "\n",
    "import numpy as np\n",
    "import pandas as pd\n",
    "\n",
    "from sklearn.model_selection import train_test_split\n",
    "from sklearn.linear_model import LogisticRegression\n",
    "from sklearn.metrics import roc_auc_score\n",
    "from sklearn.preprocessing import StandardScaler\n",
    "from sklearn.pipeline import Pipeline\n",
    "\n",
    "from feature_engine.selection import (\n",
    "    DropConstantFeatures,\n",
    "    DropDuplicateFeatures,\n",
    "    SmartCorrelatedSelection \n",
    ")"
   ]
  },
  {
   "cell_type": "code",
   "execution_count": 2,
   "id": "b9cea455",
   "metadata": {},
   "outputs": [
    {
     "data": {
      "text/html": [
       "<div>\n",
       "<style scoped>\n",
       "    .dataframe tbody tr th:only-of-type {\n",
       "        vertical-align: middle;\n",
       "    }\n",
       "\n",
       "    .dataframe tbody tr th {\n",
       "        vertical-align: top;\n",
       "    }\n",
       "\n",
       "    .dataframe thead th {\n",
       "        text-align: right;\n",
       "    }\n",
       "</style>\n",
       "<table border=\"1\" class=\"dataframe\">\n",
       "  <thead>\n",
       "    <tr style=\"text-align: right;\">\n",
       "      <th></th>\n",
       "      <th>var_1</th>\n",
       "      <th>var_2</th>\n",
       "      <th>var_3</th>\n",
       "      <th>var_4</th>\n",
       "      <th>var_5</th>\n",
       "      <th>var_6</th>\n",
       "      <th>var_7</th>\n",
       "      <th>var_8</th>\n",
       "      <th>var_9</th>\n",
       "      <th>var_10</th>\n",
       "      <th>...</th>\n",
       "      <th>var_292</th>\n",
       "      <th>var_293</th>\n",
       "      <th>var_294</th>\n",
       "      <th>var_295</th>\n",
       "      <th>var_296</th>\n",
       "      <th>var_297</th>\n",
       "      <th>var_298</th>\n",
       "      <th>var_299</th>\n",
       "      <th>var_300</th>\n",
       "      <th>target</th>\n",
       "    </tr>\n",
       "  </thead>\n",
       "  <tbody>\n",
       "    <tr>\n",
       "      <th>0</th>\n",
       "      <td>0</td>\n",
       "      <td>0</td>\n",
       "      <td>0.0</td>\n",
       "      <td>0.00</td>\n",
       "      <td>0.0</td>\n",
       "      <td>0</td>\n",
       "      <td>0</td>\n",
       "      <td>0</td>\n",
       "      <td>0</td>\n",
       "      <td>0</td>\n",
       "      <td>...</td>\n",
       "      <td>0.0</td>\n",
       "      <td>0</td>\n",
       "      <td>0</td>\n",
       "      <td>0</td>\n",
       "      <td>0</td>\n",
       "      <td>0</td>\n",
       "      <td>0</td>\n",
       "      <td>0.0</td>\n",
       "      <td>0.0000</td>\n",
       "      <td>0</td>\n",
       "    </tr>\n",
       "    <tr>\n",
       "      <th>1</th>\n",
       "      <td>0</td>\n",
       "      <td>0</td>\n",
       "      <td>0.0</td>\n",
       "      <td>3.00</td>\n",
       "      <td>0.0</td>\n",
       "      <td>0</td>\n",
       "      <td>0</td>\n",
       "      <td>0</td>\n",
       "      <td>0</td>\n",
       "      <td>0</td>\n",
       "      <td>...</td>\n",
       "      <td>0.0</td>\n",
       "      <td>0</td>\n",
       "      <td>0</td>\n",
       "      <td>0</td>\n",
       "      <td>0</td>\n",
       "      <td>0</td>\n",
       "      <td>0</td>\n",
       "      <td>0.0</td>\n",
       "      <td>0.0000</td>\n",
       "      <td>0</td>\n",
       "    </tr>\n",
       "    <tr>\n",
       "      <th>2</th>\n",
       "      <td>0</td>\n",
       "      <td>0</td>\n",
       "      <td>0.0</td>\n",
       "      <td>5.88</td>\n",
       "      <td>0.0</td>\n",
       "      <td>0</td>\n",
       "      <td>0</td>\n",
       "      <td>0</td>\n",
       "      <td>0</td>\n",
       "      <td>0</td>\n",
       "      <td>...</td>\n",
       "      <td>0.0</td>\n",
       "      <td>0</td>\n",
       "      <td>0</td>\n",
       "      <td>3</td>\n",
       "      <td>0</td>\n",
       "      <td>0</td>\n",
       "      <td>0</td>\n",
       "      <td>0.0</td>\n",
       "      <td>67772.7216</td>\n",
       "      <td>0</td>\n",
       "    </tr>\n",
       "    <tr>\n",
       "      <th>3</th>\n",
       "      <td>0</td>\n",
       "      <td>0</td>\n",
       "      <td>0.0</td>\n",
       "      <td>14.10</td>\n",
       "      <td>0.0</td>\n",
       "      <td>0</td>\n",
       "      <td>0</td>\n",
       "      <td>0</td>\n",
       "      <td>0</td>\n",
       "      <td>0</td>\n",
       "      <td>...</td>\n",
       "      <td>0.0</td>\n",
       "      <td>0</td>\n",
       "      <td>0</td>\n",
       "      <td>0</td>\n",
       "      <td>0</td>\n",
       "      <td>0</td>\n",
       "      <td>0</td>\n",
       "      <td>0.0</td>\n",
       "      <td>0.0000</td>\n",
       "      <td>0</td>\n",
       "    </tr>\n",
       "    <tr>\n",
       "      <th>4</th>\n",
       "      <td>0</td>\n",
       "      <td>0</td>\n",
       "      <td>0.0</td>\n",
       "      <td>5.76</td>\n",
       "      <td>0.0</td>\n",
       "      <td>0</td>\n",
       "      <td>0</td>\n",
       "      <td>0</td>\n",
       "      <td>0</td>\n",
       "      <td>0</td>\n",
       "      <td>...</td>\n",
       "      <td>0.0</td>\n",
       "      <td>0</td>\n",
       "      <td>0</td>\n",
       "      <td>0</td>\n",
       "      <td>0</td>\n",
       "      <td>0</td>\n",
       "      <td>0</td>\n",
       "      <td>0.0</td>\n",
       "      <td>0.0000</td>\n",
       "      <td>0</td>\n",
       "    </tr>\n",
       "  </tbody>\n",
       "</table>\n",
       "<p>5 rows × 301 columns</p>\n",
       "</div>"
      ],
      "text/plain": [
       "   var_1  var_2  var_3  var_4  var_5  var_6  var_7  var_8  var_9  var_10  ...  \\\n",
       "0      0      0    0.0   0.00    0.0      0      0      0      0       0  ...   \n",
       "1      0      0    0.0   3.00    0.0      0      0      0      0       0  ...   \n",
       "2      0      0    0.0   5.88    0.0      0      0      0      0       0  ...   \n",
       "3      0      0    0.0  14.10    0.0      0      0      0      0       0  ...   \n",
       "4      0      0    0.0   5.76    0.0      0      0      0      0       0  ...   \n",
       "\n",
       "   var_292  var_293  var_294  var_295  var_296  var_297  var_298  var_299  \\\n",
       "0      0.0        0        0        0        0        0        0      0.0   \n",
       "1      0.0        0        0        0        0        0        0      0.0   \n",
       "2      0.0        0        0        3        0        0        0      0.0   \n",
       "3      0.0        0        0        0        0        0        0      0.0   \n",
       "4      0.0        0        0        0        0        0        0      0.0   \n",
       "\n",
       "      var_300  target  \n",
       "0      0.0000       0  \n",
       "1      0.0000       0  \n",
       "2  67772.7216       0  \n",
       "3      0.0000       0  \n",
       "4      0.0000       0  \n",
       "\n",
       "[5 rows x 301 columns]"
      ]
     },
     "execution_count": 2,
     "metadata": {},
     "output_type": "execute_result"
    }
   ],
   "source": [
    "# load data\n",
    "\n",
    "data = pd.read_csv('..\\precleaned-datasets\\dataset_1.csv')\n",
    "data.head()"
   ]
  },
  {
   "cell_type": "code",
   "execution_count": 3,
   "id": "0e755e81",
   "metadata": {},
   "outputs": [
    {
     "name": "stdout",
     "output_type": "stream",
     "text": [
      "<class 'pandas.core.frame.DataFrame'>\n",
      "RangeIndex: 50000 entries, 0 to 49999\n",
      "Columns: 301 entries, var_1 to target\n",
      "dtypes: float64(127), int64(174)\n",
      "memory usage: 114.8 MB\n"
     ]
    }
   ],
   "source": [
    "data.info()"
   ]
  },
  {
   "cell_type": "code",
   "execution_count": 4,
   "id": "488af368",
   "metadata": {},
   "outputs": [
    {
     "data": {
      "text/plain": [
       "((35000, 300), (15000, 300))"
      ]
     },
     "execution_count": 4,
     "metadata": {},
     "output_type": "execute_result"
    }
   ],
   "source": [
    "# separate dataset into train and test\n",
    "X_train, X_test, y_train, y_test = train_test_split(\n",
    "    data.drop(labels=['target'], axis=1),\n",
    "    data['target'],\n",
    "    test_size=0.3,\n",
    "    random_state=0)\n",
    "\n",
    "X_train.shape, X_test.shape"
   ]
  },
  {
   "cell_type": "code",
   "execution_count": 5,
   "id": "3bf45156",
   "metadata": {},
   "outputs": [
    {
     "data": {
      "text/plain": [
       "Pipeline(steps=[('constant',\n",
       "                 DropConstantFeatures(tol=0.98,\n",
       "                                      variables=['var_1', 'var_2', 'var_3',\n",
       "                                                 'var_4', 'var_5', 'var_6',\n",
       "                                                 'var_7', 'var_8', 'var_9',\n",
       "                                                 'var_10', 'var_11', 'var_12',\n",
       "                                                 'var_13', 'var_14', 'var_15',\n",
       "                                                 'var_16', 'var_17', 'var_18',\n",
       "                                                 'var_19', 'var_20', 'var_21',\n",
       "                                                 'var_22', 'var_23', 'var_24',\n",
       "                                                 'var_25', 'var_26', 'var_27',\n",
       "                                                 'var_28', 'var_29', 'var_30', ...])),\n",
       "                ('duplication...\n",
       "                ('correlation',\n",
       "                 SmartCorrelatedSelection(selection_method='variance',\n",
       "                                          variables=['var_4', 'var_15',\n",
       "                                                     'var_17', 'var_18',\n",
       "                                                     'var_21', 'var_29',\n",
       "                                                     'var_30', 'var_31',\n",
       "                                                     'var_35', 'var_37',\n",
       "                                                     'var_38', 'var_41',\n",
       "                                                     'var_46', 'var_47',\n",
       "                                                     'var_49', 'var_50',\n",
       "                                                     'var_52', 'var_55',\n",
       "                                                     'var_57', 'var_58',\n",
       "                                                     'var_62', 'var_64',\n",
       "                                                     'var_70', 'var_74',\n",
       "                                                     'var_75', 'var_76',\n",
       "                                                     'var_79', 'var_82',\n",
       "                                                     'var_83', 'var_85', ...]))])"
      ]
     },
     "execution_count": 5,
     "metadata": {},
     "output_type": "execute_result"
    }
   ],
   "source": [
    "# create pipeline\n",
    "\n",
    "pipe = Pipeline([\n",
    "    ('constant', DropConstantFeatures(tol = 0.98)),\n",
    "    ('duplication', DropDuplicateFeatures()),\n",
    "    ('correlation',SmartCorrelatedSelection(selection_method='variance')) # choosing selection method as variance  \n",
    "])\n",
    "\n",
    "pipe.fit(X_train)\n"
   ]
  },
  {
   "cell_type": "code",
   "execution_count": 6,
   "id": "84211707",
   "metadata": {},
   "outputs": [
    {
     "data": {
      "text/plain": [
       "{'constant': DropConstantFeatures(tol=0.98,\n",
       "                      variables=['var_1', 'var_2', 'var_3', 'var_4', 'var_5',\n",
       "                                 'var_6', 'var_7', 'var_8', 'var_9', 'var_10',\n",
       "                                 'var_11', 'var_12', 'var_13', 'var_14',\n",
       "                                 'var_15', 'var_16', 'var_17', 'var_18',\n",
       "                                 'var_19', 'var_20', 'var_21', 'var_22',\n",
       "                                 'var_23', 'var_24', 'var_25', 'var_26',\n",
       "                                 'var_27', 'var_28', 'var_29', 'var_30', ...]),\n",
       " 'duplication': DropDuplicateFeatures(variables=['var_4', 'var_15', 'var_17', 'var_18',\n",
       "                                  'var_21', 'var_29', 'var_30', 'var_31',\n",
       "                                  'var_35', 'var_37', 'var_38', 'var_41',\n",
       "                                  'var_46', 'var_47', 'var_49', 'var_50',\n",
       "                                  'var_52', 'var_55', 'var_57', 'var_58',\n",
       "                                  'var_62', 'var_64', 'var_70', 'var_74',\n",
       "                                  'var_75', 'var_76', 'var_79', 'var_82',\n",
       "                                  'var_83', 'var_85', ...]),\n",
       " 'correlation': SmartCorrelatedSelection(selection_method='variance',\n",
       "                          variables=['var_4', 'var_15', 'var_17', 'var_18',\n",
       "                                     'var_21', 'var_29', 'var_30', 'var_31',\n",
       "                                     'var_35', 'var_37', 'var_38', 'var_41',\n",
       "                                     'var_46', 'var_47', 'var_49', 'var_50',\n",
       "                                     'var_52', 'var_55', 'var_57', 'var_58',\n",
       "                                     'var_62', 'var_64', 'var_70', 'var_74',\n",
       "                                     'var_75', 'var_76', 'var_79', 'var_82',\n",
       "                                     'var_83', 'var_85', ...])}"
      ]
     },
     "execution_count": 6,
     "metadata": {},
     "output_type": "execute_result"
    }
   ],
   "source": [
    "pipe.named_steps"
   ]
  },
  {
   "cell_type": "code",
   "execution_count": 7,
   "id": "8717212b",
   "metadata": {},
   "outputs": [
    {
     "data": {
      "text/plain": [
       "186"
      ]
     },
     "execution_count": 7,
     "metadata": {},
     "output_type": "execute_result"
    }
   ],
   "source": [
    "len(pipe.named_steps['constant'].features_to_drop_)"
   ]
  },
  {
   "cell_type": "code",
   "execution_count": 8,
   "id": "2fc1fe17",
   "metadata": {},
   "outputs": [
    {
     "data": {
      "text/plain": [
       "4"
      ]
     },
     "execution_count": 8,
     "metadata": {},
     "output_type": "execute_result"
    }
   ],
   "source": [
    "len(pipe.named_steps['duplication'].features_to_drop_)"
   ]
  },
  {
   "cell_type": "code",
   "execution_count": 9,
   "id": "0b1aec36",
   "metadata": {},
   "outputs": [
    {
     "data": {
      "text/plain": [
       "59"
      ]
     },
     "execution_count": 9,
     "metadata": {},
     "output_type": "execute_result"
    }
   ],
   "source": [
    "len(pipe.named_steps['correlation'].features_to_drop_)"
   ]
  },
  {
   "cell_type": "code",
   "execution_count": 10,
   "id": "beba4704",
   "metadata": {
    "scrolled": true
   },
   "outputs": [
    {
     "data": {
      "text/plain": [
       "((35000, 51), (15000, 51))"
      ]
     },
     "execution_count": 10,
     "metadata": {},
     "output_type": "execute_result"
    }
   ],
   "source": [
    "# remove features\n",
    "X_train = pipe.transform(X_train)\n",
    "X_test = pipe.transform(X_test)\n",
    "\n",
    "X_train.shape, X_test.shape"
   ]
  },
  {
   "cell_type": "code",
   "execution_count": 13,
   "id": "3da3183f",
   "metadata": {},
   "outputs": [],
   "source": [
    "# create a function to run a logistic regression and compare performance between train and test\n",
    "\n",
    "def logistic_reg(X_train, X_test, y_train, y_test):\n",
    "    \n",
    "    log = LogisticRegression(random_state=44, max_iter=500)\n",
    "    \n",
    "    log.fit(X_train, y_train)\n",
    "    \n",
    "    pred_train = log.predict_proba(X_train)[:,1]\n",
    "    pred_test = log.predict_proba(X_test)[:,1]\n",
    "    \n",
    "    print('ROC AUC for train : {}'.format(roc_auc_score(y_train, pred_train)))\n",
    "    print('ROC AUC for test : {}'.format(roc_auc_score(y_test, pred_test)))"
   ]
  },
  {
   "cell_type": "code",
   "execution_count": 15,
   "id": "5cf40b4d",
   "metadata": {},
   "outputs": [],
   "source": [
    "scaler = StandardScaler()\n",
    "X_train = scaler.fit_transform(X_train)\n",
    "X_test = scaler.transform(X_test)"
   ]
  },
  {
   "cell_type": "code",
   "execution_count": 16,
   "id": "8763664e",
   "metadata": {},
   "outputs": [
    {
     "name": "stdout",
     "output_type": "stream",
     "text": [
      "ROC AUC for train : 0.7895647194833147\n",
      "ROC AUC for test : 0.7883434358848281\n"
     ]
    }
   ],
   "source": [
    "logistic_reg(X_train, X_test, y_train, y_test)"
   ]
  },
  {
   "cell_type": "code",
   "execution_count": null,
   "id": "23757d99",
   "metadata": {},
   "outputs": [],
   "source": []
  }
 ],
 "metadata": {
  "kernelspec": {
   "display_name": "Python 3 (ipykernel)",
   "language": "python",
   "name": "python3"
  },
  "language_info": {
   "codemirror_mode": {
    "name": "ipython",
    "version": 3
   },
   "file_extension": ".py",
   "mimetype": "text/x-python",
   "name": "python",
   "nbconvert_exporter": "python",
   "pygments_lexer": "ipython3",
   "version": "3.9.5"
  }
 },
 "nbformat": 4,
 "nbformat_minor": 5
}
