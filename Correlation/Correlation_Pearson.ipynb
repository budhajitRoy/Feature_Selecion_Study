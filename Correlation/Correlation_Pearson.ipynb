{
 "cells": [
  {
   "cell_type": "markdown",
   "id": "e3406020",
   "metadata": {},
   "source": [
    "## Correlation\n",
    "\n",
    "Correlation Feature Selection evaluates subsets of features on the basis of the following hypothesis: \"Good feature subsets contain features highly correlated with the target, yet uncorrelated to each other\".\n",
    "\n",
    "**References**:\n",
    "\n",
    "M. Hall 1999, [Correlation-based Feature Selection for Machine Learning](http://www.cs.waikato.ac.nz/~mhall/thesis.pdf)\n",
    "\n",
    "Senliol, Baris, et al. \"Fast Correlation Based Filter (FCBF) with a different search strategy.\" Computer and Information Sciences.\n",
    "\n",
    "\n",
    "This notebook will cover how to select features based on correlation using 2 procedures:\n",
    "\n",
    "The first one is a brute force function that finds correlated features without any further insight. \n",
    "\n",
    "The second procedure finds groups of correlated features, which we can then explore to decide which one to keep and which ones to discard.\n",
    "\n",
    "Often, more than 2 features are correlated with each other. We can find groups of 3, 4 or more features that are correlated. By identifying these groups, with procedure 2, we can then select from each group, which feature we want to keep, and which ones we want to remove.\n",
    "\n",
    "**Note**\n",
    "\n",
    "The most used method to determine correlation is the Pearson's correlation method."
   ]
  },
  {
   "cell_type": "code",
   "execution_count": 1,
   "id": "bd3574d8",
   "metadata": {},
   "outputs": [],
   "source": [
    "# import libraries\n",
    "\n",
    "import numpy as np\n",
    "import pandas as pd\n",
    "\n",
    "import matplotlib.pyplot as plt\n",
    "import seaborn as sns\n",
    "\n",
    "from sklearn.model_selection import train_test_split"
   ]
  },
  {
   "cell_type": "code",
   "execution_count": 2,
   "id": "79cb1633",
   "metadata": {},
   "outputs": [
    {
     "data": {
      "text/html": [
       "<div>\n",
       "<style scoped>\n",
       "    .dataframe tbody tr th:only-of-type {\n",
       "        vertical-align: middle;\n",
       "    }\n",
       "\n",
       "    .dataframe tbody tr th {\n",
       "        vertical-align: top;\n",
       "    }\n",
       "\n",
       "    .dataframe thead th {\n",
       "        text-align: right;\n",
       "    }\n",
       "</style>\n",
       "<table border=\"1\" class=\"dataframe\">\n",
       "  <thead>\n",
       "    <tr style=\"text-align: right;\">\n",
       "      <th></th>\n",
       "      <th>var_1</th>\n",
       "      <th>var_2</th>\n",
       "      <th>var_3</th>\n",
       "      <th>var_4</th>\n",
       "      <th>var_5</th>\n",
       "      <th>var_6</th>\n",
       "      <th>var_7</th>\n",
       "      <th>var_8</th>\n",
       "      <th>var_9</th>\n",
       "      <th>var_10</th>\n",
       "      <th>...</th>\n",
       "      <th>var_100</th>\n",
       "      <th>var_101</th>\n",
       "      <th>var_102</th>\n",
       "      <th>var_103</th>\n",
       "      <th>var_104</th>\n",
       "      <th>var_105</th>\n",
       "      <th>var_106</th>\n",
       "      <th>var_107</th>\n",
       "      <th>var_108</th>\n",
       "      <th>var_109</th>\n",
       "    </tr>\n",
       "  </thead>\n",
       "  <tbody>\n",
       "    <tr>\n",
       "      <th>0</th>\n",
       "      <td>4.532710</td>\n",
       "      <td>3.280834</td>\n",
       "      <td>17.982476</td>\n",
       "      <td>4.404259</td>\n",
       "      <td>2.349910</td>\n",
       "      <td>0.603264</td>\n",
       "      <td>2.784655</td>\n",
       "      <td>0.323146</td>\n",
       "      <td>12.009691</td>\n",
       "      <td>0.139346</td>\n",
       "      <td>...</td>\n",
       "      <td>2.079066</td>\n",
       "      <td>6.748819</td>\n",
       "      <td>2.941445</td>\n",
       "      <td>18.360496</td>\n",
       "      <td>17.726613</td>\n",
       "      <td>7.774031</td>\n",
       "      <td>1.473441</td>\n",
       "      <td>1.973832</td>\n",
       "      <td>0.976806</td>\n",
       "      <td>2.541417</td>\n",
       "    </tr>\n",
       "    <tr>\n",
       "      <th>1</th>\n",
       "      <td>5.821374</td>\n",
       "      <td>12.098722</td>\n",
       "      <td>13.309151</td>\n",
       "      <td>4.125599</td>\n",
       "      <td>1.045386</td>\n",
       "      <td>1.832035</td>\n",
       "      <td>1.833494</td>\n",
       "      <td>0.709090</td>\n",
       "      <td>8.652883</td>\n",
       "      <td>0.102757</td>\n",
       "      <td>...</td>\n",
       "      <td>2.479789</td>\n",
       "      <td>7.795290</td>\n",
       "      <td>3.557890</td>\n",
       "      <td>17.383378</td>\n",
       "      <td>15.193423</td>\n",
       "      <td>8.263673</td>\n",
       "      <td>1.878108</td>\n",
       "      <td>0.567939</td>\n",
       "      <td>1.018818</td>\n",
       "      <td>1.416433</td>\n",
       "    </tr>\n",
       "    <tr>\n",
       "      <th>2</th>\n",
       "      <td>1.938776</td>\n",
       "      <td>7.952752</td>\n",
       "      <td>0.972671</td>\n",
       "      <td>3.459267</td>\n",
       "      <td>1.935782</td>\n",
       "      <td>0.621463</td>\n",
       "      <td>2.338139</td>\n",
       "      <td>0.344948</td>\n",
       "      <td>9.937850</td>\n",
       "      <td>11.691283</td>\n",
       "      <td>...</td>\n",
       "      <td>1.861487</td>\n",
       "      <td>6.130886</td>\n",
       "      <td>3.401064</td>\n",
       "      <td>15.850471</td>\n",
       "      <td>14.620599</td>\n",
       "      <td>6.849776</td>\n",
       "      <td>1.098210</td>\n",
       "      <td>1.959183</td>\n",
       "      <td>1.575493</td>\n",
       "      <td>1.857893</td>\n",
       "    </tr>\n",
       "    <tr>\n",
       "      <th>3</th>\n",
       "      <td>6.020690</td>\n",
       "      <td>9.900544</td>\n",
       "      <td>17.869637</td>\n",
       "      <td>4.366715</td>\n",
       "      <td>1.973693</td>\n",
       "      <td>2.026012</td>\n",
       "      <td>2.853025</td>\n",
       "      <td>0.674847</td>\n",
       "      <td>11.816859</td>\n",
       "      <td>0.011151</td>\n",
       "      <td>...</td>\n",
       "      <td>1.340944</td>\n",
       "      <td>7.240058</td>\n",
       "      <td>2.417235</td>\n",
       "      <td>15.194609</td>\n",
       "      <td>13.553772</td>\n",
       "      <td>7.229971</td>\n",
       "      <td>0.835158</td>\n",
       "      <td>2.234482</td>\n",
       "      <td>0.946170</td>\n",
       "      <td>2.700606</td>\n",
       "    </tr>\n",
       "    <tr>\n",
       "      <th>4</th>\n",
       "      <td>3.909506</td>\n",
       "      <td>10.576516</td>\n",
       "      <td>0.934191</td>\n",
       "      <td>3.419572</td>\n",
       "      <td>1.871438</td>\n",
       "      <td>3.340811</td>\n",
       "      <td>1.868282</td>\n",
       "      <td>0.439865</td>\n",
       "      <td>13.585620</td>\n",
       "      <td>1.153366</td>\n",
       "      <td>...</td>\n",
       "      <td>2.738095</td>\n",
       "      <td>6.565509</td>\n",
       "      <td>4.341414</td>\n",
       "      <td>15.893832</td>\n",
       "      <td>11.929787</td>\n",
       "      <td>6.954033</td>\n",
       "      <td>1.853364</td>\n",
       "      <td>0.511027</td>\n",
       "      <td>2.599562</td>\n",
       "      <td>0.811364</td>\n",
       "    </tr>\n",
       "  </tbody>\n",
       "</table>\n",
       "<p>5 rows × 109 columns</p>\n",
       "</div>"
      ],
      "text/plain": [
       "      var_1      var_2      var_3     var_4     var_5     var_6     var_7  \\\n",
       "0  4.532710   3.280834  17.982476  4.404259  2.349910  0.603264  2.784655   \n",
       "1  5.821374  12.098722  13.309151  4.125599  1.045386  1.832035  1.833494   \n",
       "2  1.938776   7.952752   0.972671  3.459267  1.935782  0.621463  2.338139   \n",
       "3  6.020690   9.900544  17.869637  4.366715  1.973693  2.026012  2.853025   \n",
       "4  3.909506  10.576516   0.934191  3.419572  1.871438  3.340811  1.868282   \n",
       "\n",
       "      var_8      var_9     var_10  ...   var_100   var_101   var_102  \\\n",
       "0  0.323146  12.009691   0.139346  ...  2.079066  6.748819  2.941445   \n",
       "1  0.709090   8.652883   0.102757  ...  2.479789  7.795290  3.557890   \n",
       "2  0.344948   9.937850  11.691283  ...  1.861487  6.130886  3.401064   \n",
       "3  0.674847  11.816859   0.011151  ...  1.340944  7.240058  2.417235   \n",
       "4  0.439865  13.585620   1.153366  ...  2.738095  6.565509  4.341414   \n",
       "\n",
       "     var_103    var_104   var_105   var_106   var_107   var_108   var_109  \n",
       "0  18.360496  17.726613  7.774031  1.473441  1.973832  0.976806  2.541417  \n",
       "1  17.383378  15.193423  8.263673  1.878108  0.567939  1.018818  1.416433  \n",
       "2  15.850471  14.620599  6.849776  1.098210  1.959183  1.575493  1.857893  \n",
       "3  15.194609  13.553772  7.229971  0.835158  2.234482  0.946170  2.700606  \n",
       "4  15.893832  11.929787  6.954033  1.853364  0.511027  2.599562  0.811364  \n",
       "\n",
       "[5 rows x 109 columns]"
      ]
     },
     "execution_count": 2,
     "metadata": {},
     "output_type": "execute_result"
    }
   ],
   "source": [
    "# load data\n",
    "\n",
    "data = pd.read_csv('..\\precleaned-datasets\\dataset_2.csv')\n",
    "data.head()"
   ]
  },
  {
   "cell_type": "code",
   "execution_count": 3,
   "id": "ff778324",
   "metadata": {},
   "outputs": [
    {
     "data": {
      "text/plain": [
       "(50000, 109)"
      ]
     },
     "execution_count": 3,
     "metadata": {},
     "output_type": "execute_result"
    }
   ],
   "source": [
    "data.shape"
   ]
  },
  {
   "cell_type": "markdown",
   "id": "ccc38c3f",
   "metadata": {},
   "source": [
    "In practice, feature selection should be done after data pre-processing, so ideally, all the categorical variables are encoded into numbers, and then you can asses whether they are correlated with other features.\n",
    "\n",
    "This dataset, for simplicity, contains only numerical variables."
   ]
  },
  {
   "cell_type": "markdown",
   "id": "ffcd15eb",
   "metadata": {},
   "source": [
    "**Important**\n",
    "\n",
    "In all feature selection procedures, it is good practice to select the features by examining only the training set. And this is to avoid overfit."
   ]
  },
  {
   "cell_type": "code",
   "execution_count": 5,
   "id": "36655566",
   "metadata": {},
   "outputs": [
    {
     "data": {
      "text/plain": [
       "((35000, 108), (15000, 108))"
      ]
     },
     "execution_count": 5,
     "metadata": {},
     "output_type": "execute_result"
    }
   ],
   "source": [
    "# split the data into train and test set\n",
    "\n",
    "# separate train and test sets\n",
    "X_train, X_test, y_train, y_test = train_test_split(\n",
    "    data.drop(labels=['target'], axis=1),\n",
    "    data['target'],\n",
    "    test_size=0.3,\n",
    "    random_state=0)\n",
    "\n",
    "X_train.shape, X_test.shape"
   ]
  },
  {
   "cell_type": "markdown",
   "id": "62cd19ef",
   "metadata": {},
   "source": [
    "## Correlation heatmap"
   ]
  },
  {
   "cell_type": "code",
   "execution_count": 6,
   "id": "c78df052",
   "metadata": {},
   "outputs": [
    {
     "data": {
      "text/html": [
       "<div>\n",
       "<style scoped>\n",
       "    .dataframe tbody tr th:only-of-type {\n",
       "        vertical-align: middle;\n",
       "    }\n",
       "\n",
       "    .dataframe tbody tr th {\n",
       "        vertical-align: top;\n",
       "    }\n",
       "\n",
       "    .dataframe thead th {\n",
       "        text-align: right;\n",
       "    }\n",
       "</style>\n",
       "<table border=\"1\" class=\"dataframe\">\n",
       "  <thead>\n",
       "    <tr style=\"text-align: right;\">\n",
       "      <th></th>\n",
       "      <th>var_1</th>\n",
       "      <th>var_2</th>\n",
       "      <th>var_3</th>\n",
       "      <th>var_4</th>\n",
       "      <th>var_5</th>\n",
       "      <th>var_6</th>\n",
       "      <th>var_7</th>\n",
       "      <th>var_8</th>\n",
       "      <th>var_9</th>\n",
       "      <th>var_10</th>\n",
       "      <th>...</th>\n",
       "      <th>var_100</th>\n",
       "      <th>var_101</th>\n",
       "      <th>var_102</th>\n",
       "      <th>var_103</th>\n",
       "      <th>var_104</th>\n",
       "      <th>var_105</th>\n",
       "      <th>var_106</th>\n",
       "      <th>var_107</th>\n",
       "      <th>var_108</th>\n",
       "      <th>var_109</th>\n",
       "    </tr>\n",
       "  </thead>\n",
       "  <tbody>\n",
       "    <tr>\n",
       "      <th>var_1</th>\n",
       "      <td>1.000000</td>\n",
       "      <td>0.033981</td>\n",
       "      <td>0.074087</td>\n",
       "      <td>0.021692</td>\n",
       "      <td>-0.068544</td>\n",
       "      <td>0.030249</td>\n",
       "      <td>-0.023451</td>\n",
       "      <td>-0.093892</td>\n",
       "      <td>0.004100</td>\n",
       "      <td>-0.088648</td>\n",
       "      <td>...</td>\n",
       "      <td>0.234373</td>\n",
       "      <td>-0.075580</td>\n",
       "      <td>0.080750</td>\n",
       "      <td>-0.039567</td>\n",
       "      <td>0.004277</td>\n",
       "      <td>0.011916</td>\n",
       "      <td>0.202134</td>\n",
       "      <td>-0.270882</td>\n",
       "      <td>-0.013804</td>\n",
       "      <td>-0.107444</td>\n",
       "    </tr>\n",
       "    <tr>\n",
       "      <th>var_2</th>\n",
       "      <td>0.033981</td>\n",
       "      <td>1.000000</td>\n",
       "      <td>-0.159411</td>\n",
       "      <td>-0.194955</td>\n",
       "      <td>-0.354885</td>\n",
       "      <td>0.342255</td>\n",
       "      <td>-0.143461</td>\n",
       "      <td>0.147639</td>\n",
       "      <td>-0.174250</td>\n",
       "      <td>-0.006295</td>\n",
       "      <td>...</td>\n",
       "      <td>0.259666</td>\n",
       "      <td>-0.207069</td>\n",
       "      <td>0.123152</td>\n",
       "      <td>-0.293567</td>\n",
       "      <td>-0.378863</td>\n",
       "      <td>-0.252377</td>\n",
       "      <td>0.164657</td>\n",
       "      <td>-0.140104</td>\n",
       "      <td>-0.062878</td>\n",
       "      <td>-0.367108</td>\n",
       "    </tr>\n",
       "    <tr>\n",
       "      <th>var_3</th>\n",
       "      <td>0.074087</td>\n",
       "      <td>-0.159411</td>\n",
       "      <td>1.000000</td>\n",
       "      <td>0.305292</td>\n",
       "      <td>0.017447</td>\n",
       "      <td>-0.324186</td>\n",
       "      <td>0.254907</td>\n",
       "      <td>-0.227799</td>\n",
       "      <td>-0.069858</td>\n",
       "      <td>-0.281572</td>\n",
       "      <td>...</td>\n",
       "      <td>-0.352285</td>\n",
       "      <td>-0.003729</td>\n",
       "      <td>-0.349838</td>\n",
       "      <td>0.133204</td>\n",
       "      <td>0.232598</td>\n",
       "      <td>-0.035060</td>\n",
       "      <td>-0.228307</td>\n",
       "      <td>0.053804</td>\n",
       "      <td>0.028345</td>\n",
       "      <td>0.058611</td>\n",
       "    </tr>\n",
       "    <tr>\n",
       "      <th>var_4</th>\n",
       "      <td>0.021692</td>\n",
       "      <td>-0.194955</td>\n",
       "      <td>0.305292</td>\n",
       "      <td>1.000000</td>\n",
       "      <td>0.112129</td>\n",
       "      <td>-0.291851</td>\n",
       "      <td>0.586283</td>\n",
       "      <td>-0.124922</td>\n",
       "      <td>-0.013861</td>\n",
       "      <td>-0.131701</td>\n",
       "      <td>...</td>\n",
       "      <td>-0.241046</td>\n",
       "      <td>0.111551</td>\n",
       "      <td>-0.462949</td>\n",
       "      <td>0.112173</td>\n",
       "      <td>0.181630</td>\n",
       "      <td>0.111517</td>\n",
       "      <td>-0.316330</td>\n",
       "      <td>0.125359</td>\n",
       "      <td>0.010326</td>\n",
       "      <td>0.135963</td>\n",
       "    </tr>\n",
       "    <tr>\n",
       "      <th>var_5</th>\n",
       "      <td>-0.068544</td>\n",
       "      <td>-0.354885</td>\n",
       "      <td>0.017447</td>\n",
       "      <td>0.112129</td>\n",
       "      <td>1.000000</td>\n",
       "      <td>-0.188153</td>\n",
       "      <td>0.060385</td>\n",
       "      <td>-0.044349</td>\n",
       "      <td>0.231230</td>\n",
       "      <td>0.071947</td>\n",
       "      <td>...</td>\n",
       "      <td>-0.203067</td>\n",
       "      <td>0.170507</td>\n",
       "      <td>-0.065960</td>\n",
       "      <td>0.182245</td>\n",
       "      <td>0.232868</td>\n",
       "      <td>0.181737</td>\n",
       "      <td>-0.130929</td>\n",
       "      <td>0.140771</td>\n",
       "      <td>0.038714</td>\n",
       "      <td>0.382755</td>\n",
       "    </tr>\n",
       "    <tr>\n",
       "      <th>...</th>\n",
       "      <td>...</td>\n",
       "      <td>...</td>\n",
       "      <td>...</td>\n",
       "      <td>...</td>\n",
       "      <td>...</td>\n",
       "      <td>...</td>\n",
       "      <td>...</td>\n",
       "      <td>...</td>\n",
       "      <td>...</td>\n",
       "      <td>...</td>\n",
       "      <td>...</td>\n",
       "      <td>...</td>\n",
       "      <td>...</td>\n",
       "      <td>...</td>\n",
       "      <td>...</td>\n",
       "      <td>...</td>\n",
       "      <td>...</td>\n",
       "      <td>...</td>\n",
       "      <td>...</td>\n",
       "      <td>...</td>\n",
       "      <td>...</td>\n",
       "    </tr>\n",
       "    <tr>\n",
       "      <th>var_105</th>\n",
       "      <td>0.011916</td>\n",
       "      <td>-0.252377</td>\n",
       "      <td>-0.035060</td>\n",
       "      <td>0.111517</td>\n",
       "      <td>0.181737</td>\n",
       "      <td>-0.101773</td>\n",
       "      <td>-0.218625</td>\n",
       "      <td>-0.056199</td>\n",
       "      <td>0.385924</td>\n",
       "      <td>0.056725</td>\n",
       "      <td>...</td>\n",
       "      <td>-0.067353</td>\n",
       "      <td>0.837302</td>\n",
       "      <td>0.228656</td>\n",
       "      <td>0.322883</td>\n",
       "      <td>0.349406</td>\n",
       "      <td>1.000000</td>\n",
       "      <td>0.235818</td>\n",
       "      <td>0.005789</td>\n",
       "      <td>0.019886</td>\n",
       "      <td>0.132943</td>\n",
       "    </tr>\n",
       "    <tr>\n",
       "      <th>var_106</th>\n",
       "      <td>0.202134</td>\n",
       "      <td>0.164657</td>\n",
       "      <td>-0.228307</td>\n",
       "      <td>-0.316330</td>\n",
       "      <td>-0.130929</td>\n",
       "      <td>0.296777</td>\n",
       "      <td>-0.431197</td>\n",
       "      <td>0.108732</td>\n",
       "      <td>0.100355</td>\n",
       "      <td>0.052343</td>\n",
       "      <td>...</td>\n",
       "      <td>0.559781</td>\n",
       "      <td>0.042805</td>\n",
       "      <td>0.716226</td>\n",
       "      <td>-0.067592</td>\n",
       "      <td>-0.134573</td>\n",
       "      <td>0.235818</td>\n",
       "      <td>1.000000</td>\n",
       "      <td>-0.141228</td>\n",
       "      <td>-0.016685</td>\n",
       "      <td>-0.178394</td>\n",
       "    </tr>\n",
       "    <tr>\n",
       "      <th>var_107</th>\n",
       "      <td>-0.270882</td>\n",
       "      <td>-0.140104</td>\n",
       "      <td>0.053804</td>\n",
       "      <td>0.125359</td>\n",
       "      <td>0.140771</td>\n",
       "      <td>-0.149322</td>\n",
       "      <td>0.177444</td>\n",
       "      <td>0.272060</td>\n",
       "      <td>0.001586</td>\n",
       "      <td>0.015389</td>\n",
       "      <td>...</td>\n",
       "      <td>-0.163591</td>\n",
       "      <td>-0.004078</td>\n",
       "      <td>-0.119910</td>\n",
       "      <td>0.082322</td>\n",
       "      <td>0.126310</td>\n",
       "      <td>0.005789</td>\n",
       "      <td>-0.141228</td>\n",
       "      <td>1.000000</td>\n",
       "      <td>0.023513</td>\n",
       "      <td>0.167705</td>\n",
       "    </tr>\n",
       "    <tr>\n",
       "      <th>var_108</th>\n",
       "      <td>-0.013804</td>\n",
       "      <td>-0.062878</td>\n",
       "      <td>0.028345</td>\n",
       "      <td>0.010326</td>\n",
       "      <td>0.038714</td>\n",
       "      <td>-0.046118</td>\n",
       "      <td>0.014317</td>\n",
       "      <td>-0.012659</td>\n",
       "      <td>0.014182</td>\n",
       "      <td>-0.002010</td>\n",
       "      <td>...</td>\n",
       "      <td>-0.036478</td>\n",
       "      <td>0.016211</td>\n",
       "      <td>-0.007372</td>\n",
       "      <td>0.043367</td>\n",
       "      <td>0.051193</td>\n",
       "      <td>0.019886</td>\n",
       "      <td>-0.016685</td>\n",
       "      <td>0.023513</td>\n",
       "      <td>1.000000</td>\n",
       "      <td>0.049598</td>\n",
       "    </tr>\n",
       "    <tr>\n",
       "      <th>var_109</th>\n",
       "      <td>-0.107444</td>\n",
       "      <td>-0.367108</td>\n",
       "      <td>0.058611</td>\n",
       "      <td>0.135963</td>\n",
       "      <td>0.382755</td>\n",
       "      <td>-0.259752</td>\n",
       "      <td>0.125783</td>\n",
       "      <td>-0.091393</td>\n",
       "      <td>0.112555</td>\n",
       "      <td>0.075951</td>\n",
       "      <td>...</td>\n",
       "      <td>-0.240203</td>\n",
       "      <td>0.109569</td>\n",
       "      <td>-0.099213</td>\n",
       "      <td>0.193151</td>\n",
       "      <td>0.258798</td>\n",
       "      <td>0.132943</td>\n",
       "      <td>-0.178394</td>\n",
       "      <td>0.167705</td>\n",
       "      <td>0.049598</td>\n",
       "      <td>1.000000</td>\n",
       "    </tr>\n",
       "  </tbody>\n",
       "</table>\n",
       "<p>108 rows × 108 columns</p>\n",
       "</div>"
      ],
      "text/plain": [
       "            var_1     var_2     var_3     var_4     var_5     var_6     var_7  \\\n",
       "var_1    1.000000  0.033981  0.074087  0.021692 -0.068544  0.030249 -0.023451   \n",
       "var_2    0.033981  1.000000 -0.159411 -0.194955 -0.354885  0.342255 -0.143461   \n",
       "var_3    0.074087 -0.159411  1.000000  0.305292  0.017447 -0.324186  0.254907   \n",
       "var_4    0.021692 -0.194955  0.305292  1.000000  0.112129 -0.291851  0.586283   \n",
       "var_5   -0.068544 -0.354885  0.017447  0.112129  1.000000 -0.188153  0.060385   \n",
       "...           ...       ...       ...       ...       ...       ...       ...   \n",
       "var_105  0.011916 -0.252377 -0.035060  0.111517  0.181737 -0.101773 -0.218625   \n",
       "var_106  0.202134  0.164657 -0.228307 -0.316330 -0.130929  0.296777 -0.431197   \n",
       "var_107 -0.270882 -0.140104  0.053804  0.125359  0.140771 -0.149322  0.177444   \n",
       "var_108 -0.013804 -0.062878  0.028345  0.010326  0.038714 -0.046118  0.014317   \n",
       "var_109 -0.107444 -0.367108  0.058611  0.135963  0.382755 -0.259752  0.125783   \n",
       "\n",
       "            var_8     var_9    var_10  ...   var_100   var_101   var_102  \\\n",
       "var_1   -0.093892  0.004100 -0.088648  ...  0.234373 -0.075580  0.080750   \n",
       "var_2    0.147639 -0.174250 -0.006295  ...  0.259666 -0.207069  0.123152   \n",
       "var_3   -0.227799 -0.069858 -0.281572  ... -0.352285 -0.003729 -0.349838   \n",
       "var_4   -0.124922 -0.013861 -0.131701  ... -0.241046  0.111551 -0.462949   \n",
       "var_5   -0.044349  0.231230  0.071947  ... -0.203067  0.170507 -0.065960   \n",
       "...           ...       ...       ...  ...       ...       ...       ...   \n",
       "var_105 -0.056199  0.385924  0.056725  ... -0.067353  0.837302  0.228656   \n",
       "var_106  0.108732  0.100355  0.052343  ...  0.559781  0.042805  0.716226   \n",
       "var_107  0.272060  0.001586  0.015389  ... -0.163591 -0.004078 -0.119910   \n",
       "var_108 -0.012659  0.014182 -0.002010  ... -0.036478  0.016211 -0.007372   \n",
       "var_109 -0.091393  0.112555  0.075951  ... -0.240203  0.109569 -0.099213   \n",
       "\n",
       "          var_103   var_104   var_105   var_106   var_107   var_108   var_109  \n",
       "var_1   -0.039567  0.004277  0.011916  0.202134 -0.270882 -0.013804 -0.107444  \n",
       "var_2   -0.293567 -0.378863 -0.252377  0.164657 -0.140104 -0.062878 -0.367108  \n",
       "var_3    0.133204  0.232598 -0.035060 -0.228307  0.053804  0.028345  0.058611  \n",
       "var_4    0.112173  0.181630  0.111517 -0.316330  0.125359  0.010326  0.135963  \n",
       "var_5    0.182245  0.232868  0.181737 -0.130929  0.140771  0.038714  0.382755  \n",
       "...           ...       ...       ...       ...       ...       ...       ...  \n",
       "var_105  0.322883  0.349406  1.000000  0.235818  0.005789  0.019886  0.132943  \n",
       "var_106 -0.067592 -0.134573  0.235818  1.000000 -0.141228 -0.016685 -0.178394  \n",
       "var_107  0.082322  0.126310  0.005789 -0.141228  1.000000  0.023513  0.167705  \n",
       "var_108  0.043367  0.051193  0.019886 -0.016685  0.023513  1.000000  0.049598  \n",
       "var_109  0.193151  0.258798  0.132943 -0.178394  0.167705  0.049598  1.000000  \n",
       "\n",
       "[108 rows x 108 columns]"
      ]
     },
     "execution_count": 6,
     "metadata": {},
     "output_type": "execute_result"
    }
   ],
   "source": [
    "# visualise correlated features:\n",
    "\n",
    "# I will build a correlation matrix, which examines the \n",
    "# correlation of all features (that is, for all possible feature combinations)\n",
    "# and then visualise the correlation matrix using a heatmap\n",
    "\n",
    "# the default correlation method of pandas.corr is pearson\n",
    "# I include it anyways for the demo\n",
    "\n",
    "corrmat = X_train.corr(method='pearson')\n",
    "corrmat"
   ]
  },
  {
   "cell_type": "code",
   "execution_count": 7,
   "id": "90dee176",
   "metadata": {},
   "outputs": [
    {
     "data": {
      "text/plain": [
       "<AxesSubplot:>"
      ]
     },
     "execution_count": 7,
     "metadata": {},
     "output_type": "execute_result"
    },
    {
     "data": {
      "image/png": "[encoded data removed]",
      "text/plain": [
       "<Figure size 792x792 with 2 Axes>"
      ]
     },
     "metadata": {
      "needs_background": "light"
     },
     "output_type": "display_data"
    }
   ],
   "source": [
    "# we can make a heatmap with the package seaborn\n",
    "# and customise the colours of searborn's heatmap\n",
    "cmap = sns.diverging_palette(220, 20, as_cmap=True)\n",
    "\n",
    "# some more parameters for the figure\n",
    "fig, ax = plt.subplots()\n",
    "fig.set_size_inches(11,11)\n",
    "\n",
    "# and now plot the correlation matrix\n",
    "sns.heatmap(corrmat, cmap=cmap)"
   ]
  },
  {
   "cell_type": "markdown",
   "id": "ac842b40",
   "metadata": {},
   "source": [
    "In the plot above, the dark orange squares correspond to highly correlated features (>0.8). Darker blue squares corresponds to negatively correlated features (<-0.8).\n",
    "\n",
    "The diagonal represents the correlation of a feature with itself, therefore the value is 1.\n",
    "\n",
    "We can see that there are a few features that are highly correlated."
   ]
  },
  {
   "cell_type": "markdown",
   "id": "46562908",
   "metadata": {},
   "source": [
    "## Correlation scatterplots"
   ]
  },
  {
   "cell_type": "code",
   "execution_count": 8,
   "id": "abb5174b",
   "metadata": {},
   "outputs": [
    {
     "data": {
      "text/plain": [
       "var_1     -0.068544\n",
       "var_2     -0.354885\n",
       "var_3      0.017447\n",
       "var_4      0.112129\n",
       "var_5      1.000000\n",
       "             ...   \n",
       "var_105    0.181737\n",
       "var_106   -0.130929\n",
       "var_107    0.140771\n",
       "var_108    0.038714\n",
       "var_109    0.382755\n",
       "Name: var_5, Length: 108, dtype: float64"
      ]
     },
     "execution_count": 8,
     "metadata": {},
     "output_type": "execute_result"
    }
   ],
   "source": [
    "corrmat.loc['var_5']"
   ]
  },
  {
   "cell_type": "code",
   "execution_count": 10,
   "id": "08ee151e",
   "metadata": {},
   "outputs": [
    {
     "name": "stdout",
     "output_type": "stream",
     "text": [
      "var_5 1.0\n",
      "var_28 0.9536721652384935\n",
      "var_75 0.8616179292025201\n"
     ]
    }
   ],
   "source": [
    "# Looking at the heatmap, we see that var25 is highly correlated \n",
    "# with others in the dataset\n",
    "\n",
    "# with this code we can get the other variable names\n",
    "# and also print the correlation coefficient between var25 and \n",
    "# these variables:\n",
    "\n",
    "c = 0\n",
    "\n",
    "# iterate over each correlation value for var_5:\n",
    "for i in corrmat.loc['var_5']:\n",
    "    \n",
    "    # if highly correlated\n",
    "    if i > 0.8:\n",
    "        \n",
    "        # print the variable name and the correlation coefficient\n",
    "        print(corrmat.columns[c], i)\n",
    "    \n",
    "    c += 1"
   ]
  },
  {
   "cell_type": "code",
   "execution_count": 11,
   "id": "53dbb85b",
   "metadata": {},
   "outputs": [
    {
     "data": {
      "image/png": "[encoded data removed]",
      "text/plain": [
       "<Figure size 432x288 with 1 Axes>"
      ]
     },
     "metadata": {
      "needs_background": "light"
     },
     "output_type": "display_data"
    }
   ],
   "source": [
    "# now, let's plot the variables\n",
    "\n",
    "plt.scatter(X_train['var_5'], X_train['var_28'])\n",
    "plt.ylabel('var_28')\n",
    "plt.xlabel('var_5')\n",
    "plt.show()"
   ]
  },
  {
   "cell_type": "code",
   "execution_count": 13,
   "id": "7c00d6c6",
   "metadata": {},
   "outputs": [
    {
     "data": {
      "image/png": "[encoded data removed]",
      "text/plain": [
       "<Figure size 432x288 with 1 Axes>"
      ]
     },
     "metadata": {
      "needs_background": "light"
     },
     "output_type": "display_data"
    }
   ],
   "source": [
    "# now, let's plot the variables\n",
    "\n",
    "plt.scatter(X_train['var_5'], X_train['var_75'])\n",
    "plt.ylabel('var_75')\n",
    "plt.xlabel('var_5')\n",
    "plt.show()"
   ]
  },
  {
   "cell_type": "markdown",
   "id": "4368ab9d",
   "metadata": {},
   "source": [
    "We see that the correlation of the second pair of variables is not quite linear.\n",
    "\n",
    "Next, let's identify a couple of negatively correlated variables:"
   ]
  },
  {
   "cell_type": "code",
   "execution_count": 16,
   "id": "badd3eec",
   "metadata": {},
   "outputs": [
    {
     "name": "stdout",
     "output_type": "stream",
     "text": [
      "var_21 -0.8943929785046758\n",
      "var_70 -0.9489465365954278\n"
     ]
    }
   ],
   "source": [
    "# Looking at the heatmap, we see that var25 is highly correlated \n",
    "# with others in the dataset\n",
    "\n",
    "# with this code we can get the other variable names\n",
    "# and also print the correlation coefficient between var25 and \n",
    "# these variables:\n",
    "\n",
    "c = 0\n",
    "\n",
    "# iterate over each correlation value for var_5:\n",
    "for i in corrmat.loc['var_88']:\n",
    "    \n",
    "    # if highly correlated\n",
    "    if i < -0.8:\n",
    "        \n",
    "        # print the variable name and the correlation coefficient\n",
    "        print(corrmat.columns[c], i)\n",
    "    \n",
    "    c += 1"
   ]
  },
  {
   "cell_type": "code",
   "execution_count": 17,
   "id": "bead8793",
   "metadata": {},
   "outputs": [
    {
     "data": {
      "image/png": "[encoded data removed]",
      "text/plain": [
       "<Figure size 432x288 with 1 Axes>"
      ]
     },
     "metadata": {
      "needs_background": "light"
     },
     "output_type": "display_data"
    }
   ],
   "source": [
    "# now, let's plot the variables\n",
    "\n",
    "plt.scatter(X_train['var_88'], X_train['var_70'])\n",
    "plt.ylabel('var_70')\n",
    "plt.xlabel('var_88')\n",
    "plt.show()"
   ]
  },
  {
   "cell_type": "code",
   "execution_count": 18,
   "id": "e61ef934",
   "metadata": {},
   "outputs": [
    {
     "data": {
      "image/png": "[encoded data removed]",
      "text/plain": [
       "<Figure size 432x288 with 1 Axes>"
      ]
     },
     "metadata": {
      "needs_background": "light"
     },
     "output_type": "display_data"
    }
   ],
   "source": [
    "# now, let's plot the variables\n",
    "\n",
    "plt.scatter(X_train['var_88'], X_train['var_21'])\n",
    "plt.ylabel('var_21')\n",
    "plt.xlabel('var_88')\n",
    "plt.show()"
   ]
  },
  {
   "cell_type": "markdown",
   "id": "c7f3a505",
   "metadata": {},
   "source": [
    "The higher the value of 1 variable, the lower the value of the other variable.\n",
    "\n",
    "Now let's proceed with feature selection\n",
    "\n",
    "## Remove correlated\n",
    "\n",
    "### Brute force approach"
   ]
  },
  {
   "cell_type": "code",
   "execution_count": 28,
   "id": "3e817a1e",
   "metadata": {},
   "outputs": [
    {
     "data": {
      "text/html": [
       "<div>\n",
       "<style scoped>\n",
       "    .dataframe tbody tr th:only-of-type {\n",
       "        vertical-align: middle;\n",
       "    }\n",
       "\n",
       "    .dataframe tbody tr th {\n",
       "        vertical-align: top;\n",
       "    }\n",
       "\n",
       "    .dataframe thead th {\n",
       "        text-align: right;\n",
       "    }\n",
       "</style>\n",
       "<table border=\"1\" class=\"dataframe\">\n",
       "  <thead>\n",
       "    <tr style=\"text-align: right;\">\n",
       "      <th></th>\n",
       "      <th>var_1</th>\n",
       "      <th>var_1</th>\n",
       "    </tr>\n",
       "  </thead>\n",
       "  <tbody>\n",
       "    <tr>\n",
       "      <th>var_1</th>\n",
       "      <td>1.000000</td>\n",
       "      <td>1.000000</td>\n",
       "    </tr>\n",
       "    <tr>\n",
       "      <th>var_2</th>\n",
       "      <td>0.033981</td>\n",
       "      <td>0.033981</td>\n",
       "    </tr>\n",
       "    <tr>\n",
       "      <th>var_3</th>\n",
       "      <td>0.074087</td>\n",
       "      <td>0.074087</td>\n",
       "    </tr>\n",
       "    <tr>\n",
       "      <th>var_4</th>\n",
       "      <td>0.021692</td>\n",
       "      <td>0.021692</td>\n",
       "    </tr>\n",
       "    <tr>\n",
       "      <th>var_5</th>\n",
       "      <td>-0.068544</td>\n",
       "      <td>-0.068544</td>\n",
       "    </tr>\n",
       "    <tr>\n",
       "      <th>...</th>\n",
       "      <td>...</td>\n",
       "      <td>...</td>\n",
       "    </tr>\n",
       "    <tr>\n",
       "      <th>var_105</th>\n",
       "      <td>0.011916</td>\n",
       "      <td>0.011916</td>\n",
       "    </tr>\n",
       "    <tr>\n",
       "      <th>var_106</th>\n",
       "      <td>0.202134</td>\n",
       "      <td>0.202134</td>\n",
       "    </tr>\n",
       "    <tr>\n",
       "      <th>var_107</th>\n",
       "      <td>-0.270882</td>\n",
       "      <td>-0.270882</td>\n",
       "    </tr>\n",
       "    <tr>\n",
       "      <th>var_108</th>\n",
       "      <td>-0.013804</td>\n",
       "      <td>-0.013804</td>\n",
       "    </tr>\n",
       "    <tr>\n",
       "      <th>var_109</th>\n",
       "      <td>-0.107444</td>\n",
       "      <td>-0.107444</td>\n",
       "    </tr>\n",
       "  </tbody>\n",
       "</table>\n",
       "<p>108 rows × 2 columns</p>\n",
       "</div>"
      ],
      "text/plain": [
       "            var_1     var_1\n",
       "var_1    1.000000  1.000000\n",
       "var_2    0.033981  0.033981\n",
       "var_3    0.074087  0.074087\n",
       "var_4    0.021692  0.021692\n",
       "var_5   -0.068544 -0.068544\n",
       "...           ...       ...\n",
       "var_105  0.011916  0.011916\n",
       "var_106  0.202134  0.202134\n",
       "var_107 -0.270882 -0.270882\n",
       "var_108 -0.013804 -0.013804\n",
       "var_109 -0.107444 -0.107444\n",
       "\n",
       "[108 rows x 2 columns]"
      ]
     },
     "execution_count": 28,
     "metadata": {},
     "output_type": "execute_result"
    }
   ],
   "source": [
    "corrmat[['var_1', 'var_1']]"
   ]
  },
  {
   "cell_type": "code",
   "execution_count": 40,
   "id": "0e428603",
   "metadata": {},
   "outputs": [],
   "source": [
    "def correlation(dataset, threshold):\n",
    "    \n",
    "    # set the cor-relation matrix\n",
    "    corr_matrix = dataset.corr()\n",
    "    \n",
    "    # intialize the correlated column set\n",
    "    # using set in order to capture only unique columns\n",
    "    col_corr = set()\n",
    "    \n",
    "    # iterate over every column \n",
    "    # for each feature in the dataset (columns of the correlation matrix)\n",
    "    for i in range(len(corr_matrix.columns)):\n",
    "        \n",
    "        # check with other features\n",
    "        for j in range(i):\n",
    "            \n",
    "            # if the correlation is higher than a certain threshold\n",
    "            if abs(corr_matrix.iloc[i,j]) > threshold: # we are interested in absolute coeff value\n",
    "                \n",
    "                # print correlation, and variables examined\n",
    "                # keep in mind that the columns and rows of the dataframe are identical\n",
    "                # so we can identify the features being examned by looking for i,j\n",
    "                # in the column names\n",
    "                print(abs(corr_matrix.iloc[i,j]), corr_matrix.columns[i], corr_matrix.columns[j])\n",
    "                \n",
    "                # get the name of the correlated feature\n",
    "                colname = corr_matrix.columns[j]\n",
    "                \n",
    "                # and add it to our correlated set\n",
    "                col_corr.add(colname)\n",
    "                \n",
    "    return col_corr"
   ]
  },
  {
   "cell_type": "code",
   "execution_count": 41,
   "id": "070cf4e6",
   "metadata": {},
   "outputs": [
    {
     "name": "stdout",
     "output_type": "stream",
     "text": [
      "0.8622747380995811 var_17 var_13\n",
      "0.9811464815154728 var_24 var_22\n",
      "0.9534365965016784 var_28 var_5\n",
      "0.8357629001053186 var_29 var_19\n",
      "0.9902233871664378 var_32 var_22\n",
      "0.9795663348891508 var_32 var_24\n",
      "0.9451999252742643 var_33 var_11\n",
      "0.9737916619367711 var_39 var_22\n",
      "0.9414582235116862 var_39 var_24\n",
      "0.9747925999453967 var_39 var_32\n",
      "0.9175470246118895 var_42 var_22\n",
      "0.9666008843486215 var_42 var_24\n",
      "0.9170234601899698 var_42 var_32\n",
      "0.8524876050377723 var_42 var_39\n",
      "0.9654700929398474 var_43 var_18\n",
      "0.8340258492871018 var_44 var_29\n",
      "0.8139856957605777 var_54 var_24\n",
      "0.8288917169550242 var_54 var_42\n",
      "0.836426504760336 var_57 var_15\n",
      "0.8314720729679009 var_57 var_26\n",
      "0.8219615003115645 var_57 var_37\n",
      "0.8461652132270839 var_57 var_56\n",
      "0.8120576153677289 var_59 var_26\n",
      "0.8310416392979496 var_59 var_37\n",
      "0.9764452849108589 var_59 var_56\n",
      "0.9227651652984254 var_59 var_57\n",
      "0.923798358442616 var_64 var_63\n",
      "0.8920977533879417 var_66 var_52\n",
      "0.895328291951673 var_70 var_21\n",
      "0.9702235106670617 var_72 var_50\n",
      "0.8818955709410305 var_74 var_40\n",
      "0.8606793087403443 var_75 var_5\n",
      "0.903840298594742 var_75 var_28\n",
      "0.9313310444352771 var_76 var_22\n",
      "0.9636682996184494 var_76 var_24\n",
      "0.9302638811641403 var_76 var_32\n",
      "0.8759633290226547 var_76 var_39\n",
      "0.9550461572158262 var_76 var_42\n",
      "0.9947716172235048 var_80 var_3\n",
      "0.959351756874739 var_84 var_63\n",
      "0.8991099957941892 var_84 var_64\n",
      "0.8341559695797027 var_85 var_40\n",
      "0.9266418093991518 var_85 var_74\n",
      "0.81797699979737 var_87 var_35\n",
      "0.893896089447925 var_88 var_21\n",
      "0.9488433401013147 var_88 var_70\n",
      "0.9681155219334877 var_94 var_46\n",
      "0.9245043596793593 var_95 var_90\n",
      "0.9401981275892591 var_97 var_63\n",
      "0.8999063260072453 var_97 var_84\n",
      "0.9384351568291055 var_100 var_98\n",
      "0.8850453009622673 var_101 var_40\n",
      "0.8683432047654516 var_101 var_74\n",
      "0.9157330199580683 var_101 var_85\n",
      "0.8542280625403544 var_101 var_89\n",
      "0.9147074794738449 var_102 var_23\n",
      "0.8321822705558901 var_104 var_60\n",
      "0.8028454461856755 var_104 var_103\n",
      "0.8657290212403548 var_105 var_40\n",
      "0.8885469078086969 var_105 var_74\n",
      "0.8497066288837952 var_105 var_85\n",
      "0.8348122587498822 var_105 var_101\n",
      "0.9045259322505723 var_106 var_77\n",
      "0.8901378994665277 var_108 var_30\n",
      "0.9883961325348583 var_109 var_56\n",
      "0.9473149007136643 var_109 var_59\n",
      "40\n"
     ]
    }
   ],
   "source": [
    "correlated_features = correlation(data, 0.8)\n",
    "print(len(correlated_features))"
   ]
  },
  {
   "cell_type": "markdown",
   "id": "a0f43f33",
   "metadata": {},
   "source": [
    "We can see that 40 features are highly correlated with other features in the training set. \n",
    "\n",
    "Very likely, by removing these correlated features, the performance of your machine learning models will drop very little, if at all. We can go ahead and drop these features.\n",
    "\n"
   ]
  },
  {
   "cell_type": "code",
   "execution_count": 42,
   "id": "f937268a",
   "metadata": {},
   "outputs": [
    {
     "data": {
      "text/plain": [
       "{'var_101',\n",
       " 'var_103',\n",
       " 'var_11',\n",
       " 'var_13',\n",
       " 'var_15',\n",
       " 'var_18',\n",
       " 'var_19',\n",
       " 'var_21',\n",
       " 'var_22',\n",
       " 'var_23',\n",
       " 'var_24',\n",
       " 'var_26',\n",
       " 'var_28',\n",
       " 'var_29',\n",
       " 'var_3',\n",
       " 'var_30',\n",
       " 'var_32',\n",
       " 'var_35',\n",
       " 'var_37',\n",
       " 'var_39',\n",
       " 'var_40',\n",
       " 'var_42',\n",
       " 'var_46',\n",
       " 'var_5',\n",
       " 'var_50',\n",
       " 'var_52',\n",
       " 'var_56',\n",
       " 'var_57',\n",
       " 'var_59',\n",
       " 'var_60',\n",
       " 'var_63',\n",
       " 'var_64',\n",
       " 'var_70',\n",
       " 'var_74',\n",
       " 'var_77',\n",
       " 'var_84',\n",
       " 'var_85',\n",
       " 'var_89',\n",
       " 'var_90',\n",
       " 'var_98'}"
      ]
     },
     "execution_count": 42,
     "metadata": {},
     "output_type": "execute_result"
    }
   ],
   "source": [
    "correlated_features"
   ]
  },
  {
   "cell_type": "code",
   "execution_count": 44,
   "id": "9cc1c366",
   "metadata": {},
   "outputs": [
    {
     "data": {
      "text/plain": [
       "((35000, 68), (15000, 68))"
      ]
     },
     "execution_count": 44,
     "metadata": {},
     "output_type": "execute_result"
    }
   ],
   "source": [
    "X_train.drop(labels=correlated_features, axis=1, inplace=True)\n",
    "X_test.drop(labels=correlated_features, axis=1, inplace=True)\n",
    "\n",
    "X_train.shape, X_test.shape"
   ]
  },
  {
   "cell_type": "markdown",
   "id": "00ea467b",
   "metadata": {},
   "source": [
    "By removing correlated columns we reduced the feature space from 108 numerical columns to 68.\n",
    "\n",
    "### Second approach\n",
    "\n",
    "The second approach looks to identify groups of highly correlated features. And then, we can make further investigation within these groups to decide which feature we keep and which one we remove."
   ]
  },
  {
   "cell_type": "code",
   "execution_count": 45,
   "id": "588f5eb4",
   "metadata": {},
   "outputs": [],
   "source": [
    "# separate train and test sets\n",
    "X_train, X_test, y_train, y_test = train_test_split(\n",
    "    data.drop(labels=['target'], axis=1),\n",
    "    data['target'],\n",
    "    test_size=0.3,\n",
    "    random_state=0)"
   ]
  },
  {
   "cell_type": "code",
   "execution_count": 63,
   "id": "aaaffff9",
   "metadata": {},
   "outputs": [],
   "source": [
    "# build a dataframe with the correlation between features\n",
    "# remember that the absolute value of the correlation\n",
    "# coefficient is important and not the sign\n",
    "\n",
    "corrmat = X_train.corr()"
   ]
  },
  {
   "cell_type": "code",
   "execution_count": 64,
   "id": "b121bc25",
   "metadata": {},
   "outputs": [
    {
     "data": {
      "text/plain": [
       "var_1    var_1      1.000000\n",
       "         var_2      0.033981\n",
       "         var_3      0.074087\n",
       "         var_4      0.021692\n",
       "         var_5      0.068544\n",
       "                      ...   \n",
       "var_109  var_105    0.132943\n",
       "         var_106    0.178394\n",
       "         var_107    0.167705\n",
       "         var_108    0.049598\n",
       "         var_109    1.000000\n",
       "Length: 11664, dtype: float64"
      ]
     },
     "execution_count": 64,
     "metadata": {},
     "output_type": "execute_result"
    }
   ],
   "source": [
    "corrmat.abs().unstack()"
   ]
  },
  {
   "cell_type": "code",
   "execution_count": 65,
   "id": "af9640c5",
   "metadata": {},
   "outputs": [],
   "source": [
    "corrmat = corrmat.abs().unstack()"
   ]
  },
  {
   "cell_type": "code",
   "execution_count": 66,
   "id": "10778ba5",
   "metadata": {},
   "outputs": [
    {
     "data": {
      "text/plain": [
       "var_1   var_1     1.000000\n",
       "var_29  var_29    1.000000\n",
       "var_31  var_31    1.000000\n",
       "var_32  var_32    1.000000\n",
       "var_33  var_33    1.000000\n",
       "                    ...   \n",
       "var_35  var_88    0.000075\n",
       "var_46  var_70    0.000059\n",
       "var_70  var_46    0.000059\n",
       "var_30  var_24    0.000004\n",
       "var_24  var_30    0.000004\n",
       "Length: 11664, dtype: float64"
      ]
     },
     "execution_count": 66,
     "metadata": {},
     "output_type": "execute_result"
    }
   ],
   "source": [
    "corrmat = corrmat.sort_values(ascending=False)\n",
    "corrmat"
   ]
  },
  {
   "cell_type": "code",
   "execution_count": 67,
   "id": "828f6199",
   "metadata": {},
   "outputs": [
    {
     "data": {
      "text/plain": [
       "var_1    var_1      1.000000\n",
       "var_29   var_29     1.000000\n",
       "var_31   var_31     1.000000\n",
       "var_32   var_32     1.000000\n",
       "var_33   var_33     1.000000\n",
       "                      ...   \n",
       "var_54   var_24     0.815024\n",
       "var_59   var_26     0.813195\n",
       "var_26   var_59     0.813195\n",
       "var_104  var_103    0.804599\n",
       "var_103  var_104    0.804599\n",
       "Length: 240, dtype: float64"
      ]
     },
     "execution_count": 67,
     "metadata": {},
     "output_type": "execute_result"
    }
   ],
   "source": [
    "corrmat = corrmat[corrmat > 0.8]\n",
    "corrmat"
   ]
  },
  {
   "cell_type": "code",
   "execution_count": 68,
   "id": "43ff3f1a",
   "metadata": {},
   "outputs": [
    {
     "data": {
      "text/plain": [
       "var_80   var_3      0.994923\n",
       "var_3    var_80     0.994923\n",
       "var_32   var_22     0.990431\n",
       "var_22   var_32     0.990431\n",
       "var_56   var_109    0.987777\n",
       "                      ...   \n",
       "var_54   var_24     0.815024\n",
       "var_59   var_26     0.813195\n",
       "var_26   var_59     0.813195\n",
       "var_104  var_103    0.804599\n",
       "var_103  var_104    0.804599\n",
       "Length: 132, dtype: float64"
      ]
     },
     "execution_count": 68,
     "metadata": {},
     "output_type": "execute_result"
    }
   ],
   "source": [
    "corrmat = corrmat[corrmat < 1]\n",
    "corrmat"
   ]
  },
  {
   "cell_type": "code",
   "execution_count": 69,
   "id": "747ccc47",
   "metadata": {},
   "outputs": [
    {
     "data": {
      "text/html": [
       "<div>\n",
       "<style scoped>\n",
       "    .dataframe tbody tr th:only-of-type {\n",
       "        vertical-align: middle;\n",
       "    }\n",
       "\n",
       "    .dataframe tbody tr th {\n",
       "        vertical-align: top;\n",
       "    }\n",
       "\n",
       "    .dataframe thead th {\n",
       "        text-align: right;\n",
       "    }\n",
       "</style>\n",
       "<table border=\"1\" class=\"dataframe\">\n",
       "  <thead>\n",
       "    <tr style=\"text-align: right;\">\n",
       "      <th></th>\n",
       "      <th>level_0</th>\n",
       "      <th>level_1</th>\n",
       "      <th>0</th>\n",
       "    </tr>\n",
       "  </thead>\n",
       "  <tbody>\n",
       "    <tr>\n",
       "      <th>0</th>\n",
       "      <td>var_80</td>\n",
       "      <td>var_3</td>\n",
       "      <td>0.994923</td>\n",
       "    </tr>\n",
       "    <tr>\n",
       "      <th>1</th>\n",
       "      <td>var_3</td>\n",
       "      <td>var_80</td>\n",
       "      <td>0.994923</td>\n",
       "    </tr>\n",
       "    <tr>\n",
       "      <th>2</th>\n",
       "      <td>var_32</td>\n",
       "      <td>var_22</td>\n",
       "      <td>0.990431</td>\n",
       "    </tr>\n",
       "    <tr>\n",
       "      <th>3</th>\n",
       "      <td>var_22</td>\n",
       "      <td>var_32</td>\n",
       "      <td>0.990431</td>\n",
       "    </tr>\n",
       "    <tr>\n",
       "      <th>4</th>\n",
       "      <td>var_56</td>\n",
       "      <td>var_109</td>\n",
       "      <td>0.987777</td>\n",
       "    </tr>\n",
       "    <tr>\n",
       "      <th>...</th>\n",
       "      <td>...</td>\n",
       "      <td>...</td>\n",
       "      <td>...</td>\n",
       "    </tr>\n",
       "    <tr>\n",
       "      <th>127</th>\n",
       "      <td>var_54</td>\n",
       "      <td>var_24</td>\n",
       "      <td>0.815024</td>\n",
       "    </tr>\n",
       "    <tr>\n",
       "      <th>128</th>\n",
       "      <td>var_59</td>\n",
       "      <td>var_26</td>\n",
       "      <td>0.813195</td>\n",
       "    </tr>\n",
       "    <tr>\n",
       "      <th>129</th>\n",
       "      <td>var_26</td>\n",
       "      <td>var_59</td>\n",
       "      <td>0.813195</td>\n",
       "    </tr>\n",
       "    <tr>\n",
       "      <th>130</th>\n",
       "      <td>var_104</td>\n",
       "      <td>var_103</td>\n",
       "      <td>0.804599</td>\n",
       "    </tr>\n",
       "    <tr>\n",
       "      <th>131</th>\n",
       "      <td>var_103</td>\n",
       "      <td>var_104</td>\n",
       "      <td>0.804599</td>\n",
       "    </tr>\n",
       "  </tbody>\n",
       "</table>\n",
       "<p>132 rows × 3 columns</p>\n",
       "</div>"
      ],
      "text/plain": [
       "     level_0  level_1         0\n",
       "0     var_80    var_3  0.994923\n",
       "1      var_3   var_80  0.994923\n",
       "2     var_32   var_22  0.990431\n",
       "3     var_22   var_32  0.990431\n",
       "4     var_56  var_109  0.987777\n",
       "..       ...      ...       ...\n",
       "127   var_54   var_24  0.815024\n",
       "128   var_59   var_26  0.813195\n",
       "129   var_26   var_59  0.813195\n",
       "130  var_104  var_103  0.804599\n",
       "131  var_103  var_104  0.804599\n",
       "\n",
       "[132 rows x 3 columns]"
      ]
     },
     "execution_count": 69,
     "metadata": {},
     "output_type": "execute_result"
    }
   ],
   "source": [
    "corrmat = pd.DataFrame(corrmat.reset_index())\n",
    "corrmat\n"
   ]
  },
  {
   "cell_type": "code",
   "execution_count": 72,
   "id": "d38c5b6a",
   "metadata": {},
   "outputs": [
    {
     "data": {
      "text/html": [
       "<div>\n",
       "<style scoped>\n",
       "    .dataframe tbody tr th:only-of-type {\n",
       "        vertical-align: middle;\n",
       "    }\n",
       "\n",
       "    .dataframe tbody tr th {\n",
       "        vertical-align: top;\n",
       "    }\n",
       "\n",
       "    .dataframe thead th {\n",
       "        text-align: right;\n",
       "    }\n",
       "</style>\n",
       "<table border=\"1\" class=\"dataframe\">\n",
       "  <thead>\n",
       "    <tr style=\"text-align: right;\">\n",
       "      <th></th>\n",
       "      <th>feature1</th>\n",
       "      <th>feature2</th>\n",
       "      <th>corr</th>\n",
       "    </tr>\n",
       "  </thead>\n",
       "  <tbody>\n",
       "    <tr>\n",
       "      <th>0</th>\n",
       "      <td>var_80</td>\n",
       "      <td>var_3</td>\n",
       "      <td>0.994923</td>\n",
       "    </tr>\n",
       "    <tr>\n",
       "      <th>1</th>\n",
       "      <td>var_3</td>\n",
       "      <td>var_80</td>\n",
       "      <td>0.994923</td>\n",
       "    </tr>\n",
       "    <tr>\n",
       "      <th>2</th>\n",
       "      <td>var_32</td>\n",
       "      <td>var_22</td>\n",
       "      <td>0.990431</td>\n",
       "    </tr>\n",
       "    <tr>\n",
       "      <th>3</th>\n",
       "      <td>var_22</td>\n",
       "      <td>var_32</td>\n",
       "      <td>0.990431</td>\n",
       "    </tr>\n",
       "    <tr>\n",
       "      <th>4</th>\n",
       "      <td>var_56</td>\n",
       "      <td>var_109</td>\n",
       "      <td>0.987777</td>\n",
       "    </tr>\n",
       "    <tr>\n",
       "      <th>...</th>\n",
       "      <td>...</td>\n",
       "      <td>...</td>\n",
       "      <td>...</td>\n",
       "    </tr>\n",
       "    <tr>\n",
       "      <th>127</th>\n",
       "      <td>var_54</td>\n",
       "      <td>var_24</td>\n",
       "      <td>0.815024</td>\n",
       "    </tr>\n",
       "    <tr>\n",
       "      <th>128</th>\n",
       "      <td>var_59</td>\n",
       "      <td>var_26</td>\n",
       "      <td>0.813195</td>\n",
       "    </tr>\n",
       "    <tr>\n",
       "      <th>129</th>\n",
       "      <td>var_26</td>\n",
       "      <td>var_59</td>\n",
       "      <td>0.813195</td>\n",
       "    </tr>\n",
       "    <tr>\n",
       "      <th>130</th>\n",
       "      <td>var_104</td>\n",
       "      <td>var_103</td>\n",
       "      <td>0.804599</td>\n",
       "    </tr>\n",
       "    <tr>\n",
       "      <th>131</th>\n",
       "      <td>var_103</td>\n",
       "      <td>var_104</td>\n",
       "      <td>0.804599</td>\n",
       "    </tr>\n",
       "  </tbody>\n",
       "</table>\n",
       "<p>132 rows × 3 columns</p>\n",
       "</div>"
      ],
      "text/plain": [
       "    feature1 feature2      corr\n",
       "0     var_80    var_3  0.994923\n",
       "1      var_3   var_80  0.994923\n",
       "2     var_32   var_22  0.990431\n",
       "3     var_22   var_32  0.990431\n",
       "4     var_56  var_109  0.987777\n",
       "..       ...      ...       ...\n",
       "127   var_54   var_24  0.815024\n",
       "128   var_59   var_26  0.813195\n",
       "129   var_26   var_59  0.813195\n",
       "130  var_104  var_103  0.804599\n",
       "131  var_103  var_104  0.804599\n",
       "\n",
       "[132 rows x 3 columns]"
      ]
     },
     "execution_count": 72,
     "metadata": {},
     "output_type": "execute_result"
    }
   ],
   "source": [
    "corrmat.columns=['feature1','feature2', 'corr']\n",
    "corrmat"
   ]
  },
  {
   "cell_type": "code",
   "execution_count": 73,
   "id": "b6e99f08",
   "metadata": {},
   "outputs": [
    {
     "name": "stdout",
     "output_type": "stream",
     "text": [
      "found 27 correlated groups\n",
      "out of 108 total features\n"
     ]
    }
   ],
   "source": [
    "# find groups of correlated features\n",
    "\n",
    "grouped_feature_ls = []\n",
    "correlated_groups = []\n",
    "\n",
    "for feature in corrmat.feature1.unique():\n",
    "    \n",
    "    if feature not in grouped_feature_ls:\n",
    "\n",
    "        # find all features correlated to a single feature\n",
    "        correlated_block = corrmat[corrmat.feature1 == feature]\n",
    "        grouped_feature_ls = grouped_feature_ls + list(\n",
    "            correlated_block.feature2.unique()) + [feature]\n",
    "\n",
    "        # append the block of features to the list\n",
    "        correlated_groups.append(correlated_block)\n",
    "\n",
    "print('found {} correlated groups'.format(len(correlated_groups)))\n",
    "print('out of {} total features'.format(X_train.shape[1]))"
   ]
  },
  {
   "cell_type": "code",
   "execution_count": 74,
   "id": "1f71d3c8",
   "metadata": {},
   "outputs": [
    {
     "name": "stdout",
     "output_type": "stream",
     "text": [
      "  feature1 feature2      corr\n",
      "0   var_80    var_3  0.994923\n",
      "\n",
      "   feature1 feature2      corr\n",
      "2    var_32   var_22  0.990431\n",
      "8    var_32   var_24  0.980411\n",
      "13   var_32   var_39  0.974878\n",
      "47   var_32   var_76  0.931718\n",
      "56   var_32   var_42  0.919918\n",
      "\n",
      "    feature1 feature2      corr\n",
      "4     var_56  var_109  0.987777\n",
      "11    var_56   var_59  0.975744\n",
      "103   var_56   var_57  0.844086\n",
      "\n",
      "   feature1 feature2      corr\n",
      "16   var_72   var_50  0.970263\n",
      "\n",
      "   feature1 feature2      corr\n",
      "18   var_94   var_46  0.967895\n",
      "\n",
      "   feature1 feature2      corr\n",
      "22   var_43   var_18  0.965474\n",
      "\n",
      "   feature1 feature2      corr\n",
      "26   var_63   var_84  0.959138\n",
      "40   var_63   var_97  0.940184\n",
      "53   var_63   var_64  0.924460\n",
      "\n",
      "   feature1 feature2      corr\n",
      "30   var_28    var_5  0.953672\n",
      "67   var_28   var_75  0.904413\n",
      "\n",
      "   feature1 feature2      corr\n",
      "32   var_88   var_70  0.948947\n",
      "75   var_88   var_21  0.894393\n",
      "\n",
      "   feature1 feature2      corr\n",
      "36   var_11   var_33  0.944361\n",
      "\n",
      "   feature1 feature2      corr\n",
      "42   var_98  var_100  0.938629\n",
      "\n",
      "    feature1 feature2      corr\n",
      "48    var_85   var_74  0.926333\n",
      "60    var_85  var_101  0.916500\n",
      "100   var_85  var_105  0.851245\n",
      "113   var_85   var_40  0.834050\n",
      "\n",
      "   feature1 feature2      corr\n",
      "50   var_95   var_90  0.925678\n",
      "\n",
      "   feature1 feature2      corr\n",
      "62  var_102   var_23  0.914723\n",
      "\n",
      "   feature1 feature2      corr\n",
      "64  var_106   var_77  0.907146\n",
      "\n",
      "   feature1 feature2      corr\n",
      "76   var_52   var_66  0.892522\n",
      "\n",
      "   feature1 feature2      corr\n",
      "80   var_30  var_108  0.889847\n",
      "\n",
      "   feature1 feature2      corr\n",
      "92   var_17   var_13  0.863298\n",
      "\n",
      "   feature1 feature2      corr\n",
      "98   var_89  var_101  0.852471\n",
      "\n",
      "    feature1 feature2      corr\n",
      "105   var_15   var_57  0.837404\n",
      "\n",
      "    feature1 feature2      corr\n",
      "108   var_29   var_44  0.835821\n",
      "111   var_29   var_19  0.834179\n",
      "\n",
      "    feature1 feature2      corr\n",
      "114   var_26   var_57  0.831809\n",
      "129   var_26   var_59  0.813195\n",
      "\n",
      "    feature1 feature2      corr\n",
      "117   var_37   var_59  0.830614\n",
      "123   var_37   var_57  0.820799\n",
      "\n",
      "    feature1 feature2      corr\n",
      "118   var_60  var_104  0.829495\n",
      "\n",
      "    feature1 feature2      corr\n",
      "121   var_54   var_42  0.828709\n",
      "127   var_54   var_24  0.815024\n",
      "\n",
      "    feature1 feature2      corr\n",
      "124   var_35   var_87  0.817456\n",
      "\n",
      "    feature1 feature2      corr\n",
      "131  var_103  var_104  0.804599\n",
      "\n"
     ]
    }
   ],
   "source": [
    "# now we can print out each group. We see that some groups contain\n",
    "# only 2 correlated features, some other groups present several features \n",
    "# that are correlated among themselves.\n",
    "\n",
    "for group in correlated_groups:\n",
    "    print(group)\n",
    "    print()"
   ]
  },
  {
   "cell_type": "code",
   "execution_count": 76,
   "id": "3eb6d80e",
   "metadata": {},
   "outputs": [
    {
     "data": {
      "text/html": [
       "<div>\n",
       "<style scoped>\n",
       "    .dataframe tbody tr th:only-of-type {\n",
       "        vertical-align: middle;\n",
       "    }\n",
       "\n",
       "    .dataframe tbody tr th {\n",
       "        vertical-align: top;\n",
       "    }\n",
       "\n",
       "    .dataframe thead th {\n",
       "        text-align: right;\n",
       "    }\n",
       "</style>\n",
       "<table border=\"1\" class=\"dataframe\">\n",
       "  <thead>\n",
       "    <tr style=\"text-align: right;\">\n",
       "      <th></th>\n",
       "      <th>feature1</th>\n",
       "      <th>feature2</th>\n",
       "      <th>corr</th>\n",
       "    </tr>\n",
       "  </thead>\n",
       "  <tbody>\n",
       "    <tr>\n",
       "      <th>2</th>\n",
       "      <td>var_32</td>\n",
       "      <td>var_22</td>\n",
       "      <td>0.990431</td>\n",
       "    </tr>\n",
       "    <tr>\n",
       "      <th>8</th>\n",
       "      <td>var_32</td>\n",
       "      <td>var_24</td>\n",
       "      <td>0.980411</td>\n",
       "    </tr>\n",
       "    <tr>\n",
       "      <th>13</th>\n",
       "      <td>var_32</td>\n",
       "      <td>var_39</td>\n",
       "      <td>0.974878</td>\n",
       "    </tr>\n",
       "    <tr>\n",
       "      <th>47</th>\n",
       "      <td>var_32</td>\n",
       "      <td>var_76</td>\n",
       "      <td>0.931718</td>\n",
       "    </tr>\n",
       "    <tr>\n",
       "      <th>56</th>\n",
       "      <td>var_32</td>\n",
       "      <td>var_42</td>\n",
       "      <td>0.919918</td>\n",
       "    </tr>\n",
       "  </tbody>\n",
       "</table>\n",
       "</div>"
      ],
      "text/plain": [
       "   feature1 feature2      corr\n",
       "2    var_32   var_22  0.990431\n",
       "8    var_32   var_24  0.980411\n",
       "13   var_32   var_39  0.974878\n",
       "47   var_32   var_76  0.931718\n",
       "56   var_32   var_42  0.919918"
      ]
     },
     "execution_count": 76,
     "metadata": {},
     "output_type": "execute_result"
    }
   ],
   "source": [
    "# we can now investigate further features within one group.\n",
    "# let's for example select group 1\n",
    "\n",
    "group = correlated_groups[1]\n",
    "group"
   ]
  },
  {
   "cell_type": "markdown",
   "id": "51750523",
   "metadata": {},
   "source": [
    "**In this group, several features are highly correlated. Which one should we keep and which ones should we remove?**\n",
    "\n",
    "One criteria to select which features to use from this group, would be to use those with **less missing data**. \n",
    "\n",
    "Our dataset contains no missing values, so this is not an option. But keep this in mind when you work with your own datasets."
   ]
  },
  {
   "cell_type": "markdown",
   "id": "ad9540a2",
   "metadata": {},
   "source": [
    "Alternatively, we could build a **machine learning algorithm using all the features from the above list, and select the more predictive one**."
   ]
  },
  {
   "cell_type": "code",
   "execution_count": 77,
   "id": "91eb04f8",
   "metadata": {},
   "outputs": [],
   "source": [
    "from sklearn.ensemble import RandomForestClassifier"
   ]
  },
  {
   "cell_type": "code",
   "execution_count": 78,
   "id": "569d6dd5",
   "metadata": {},
   "outputs": [
    {
     "data": {
      "text/plain": [
       "['var_22', 'var_24', 'var_39', 'var_76', 'var_42', 'var_32']"
      ]
     },
     "execution_count": 78,
     "metadata": {},
     "output_type": "execute_result"
    }
   ],
   "source": [
    "# add all features of the group to a list\n",
    "features = list(group['feature2'].unique())+['var_32']\n",
    "features"
   ]
  },
  {
   "cell_type": "code",
   "execution_count": 79,
   "id": "b0640597",
   "metadata": {},
   "outputs": [
    {
     "data": {
      "text/plain": [
       "RandomForestClassifier(max_depth=4, n_estimators=200, random_state=39)"
      ]
     },
     "execution_count": 79,
     "metadata": {},
     "output_type": "execute_result"
    }
   ],
   "source": [
    "# train a random forest \n",
    "rf = RandomForestClassifier(n_estimators=200, random_state=39, max_depth=4)\n",
    "rf.fit(X_train[features].fillna(0), y_train)"
   ]
  },
  {
   "cell_type": "code",
   "execution_count": 81,
   "id": "54da9487",
   "metadata": {},
   "outputs": [
    {
     "data": {
      "text/plain": [
       "array([0.16746737, 0.16705371, 0.19421027, 0.18735982, 0.14710218,\n",
       "       0.13680666])"
      ]
     },
     "execution_count": 81,
     "metadata": {},
     "output_type": "execute_result"
    }
   ],
   "source": [
    "# get the feature importance attributed by the \n",
    "# random forest model (more on this in coming lectures)\n",
    "\n",
    "rf.feature_importances_"
   ]
  },
  {
   "cell_type": "code",
   "execution_count": 84,
   "id": "7b489642",
   "metadata": {},
   "outputs": [
    {
     "data": {
      "text/html": [
       "<div>\n",
       "<style scoped>\n",
       "    .dataframe tbody tr th:only-of-type {\n",
       "        vertical-align: middle;\n",
       "    }\n",
       "\n",
       "    .dataframe tbody tr th {\n",
       "        vertical-align: top;\n",
       "    }\n",
       "\n",
       "    .dataframe thead th {\n",
       "        text-align: right;\n",
       "    }\n",
       "</style>\n",
       "<table border=\"1\" class=\"dataframe\">\n",
       "  <thead>\n",
       "    <tr style=\"text-align: right;\">\n",
       "      <th></th>\n",
       "      <th>0</th>\n",
       "      <th>1</th>\n",
       "    </tr>\n",
       "  </thead>\n",
       "  <tbody>\n",
       "    <tr>\n",
       "      <th>0</th>\n",
       "      <td>var_22</td>\n",
       "      <td>0.167467</td>\n",
       "    </tr>\n",
       "    <tr>\n",
       "      <th>1</th>\n",
       "      <td>var_24</td>\n",
       "      <td>0.167054</td>\n",
       "    </tr>\n",
       "    <tr>\n",
       "      <th>2</th>\n",
       "      <td>var_39</td>\n",
       "      <td>0.194210</td>\n",
       "    </tr>\n",
       "    <tr>\n",
       "      <th>3</th>\n",
       "      <td>var_76</td>\n",
       "      <td>0.187360</td>\n",
       "    </tr>\n",
       "    <tr>\n",
       "      <th>4</th>\n",
       "      <td>var_42</td>\n",
       "      <td>0.147102</td>\n",
       "    </tr>\n",
       "    <tr>\n",
       "      <th>5</th>\n",
       "      <td>var_32</td>\n",
       "      <td>0.136807</td>\n",
       "    </tr>\n",
       "  </tbody>\n",
       "</table>\n",
       "</div>"
      ],
      "text/plain": [
       "        0         1\n",
       "0  var_22  0.167467\n",
       "1  var_24  0.167054\n",
       "2  var_39  0.194210\n",
       "3  var_76  0.187360\n",
       "4  var_42  0.147102\n",
       "5  var_32  0.136807"
      ]
     },
     "execution_count": 84,
     "metadata": {},
     "output_type": "execute_result"
    }
   ],
   "source": [
    "importance = pd.concat([pd.Series(features), pd.Series(rf.feature_importances_)], axis = 1)\n",
    "importance"
   ]
  },
  {
   "cell_type": "code",
   "execution_count": 85,
   "id": "a7193c89",
   "metadata": {},
   "outputs": [
    {
     "data": {
      "text/html": [
       "<div>\n",
       "<style scoped>\n",
       "    .dataframe tbody tr th:only-of-type {\n",
       "        vertical-align: middle;\n",
       "    }\n",
       "\n",
       "    .dataframe tbody tr th {\n",
       "        vertical-align: top;\n",
       "    }\n",
       "\n",
       "    .dataframe thead th {\n",
       "        text-align: right;\n",
       "    }\n",
       "</style>\n",
       "<table border=\"1\" class=\"dataframe\">\n",
       "  <thead>\n",
       "    <tr style=\"text-align: right;\">\n",
       "      <th></th>\n",
       "      <th>features</th>\n",
       "      <th>importance</th>\n",
       "    </tr>\n",
       "  </thead>\n",
       "  <tbody>\n",
       "    <tr>\n",
       "      <th>0</th>\n",
       "      <td>var_22</td>\n",
       "      <td>0.167467</td>\n",
       "    </tr>\n",
       "    <tr>\n",
       "      <th>1</th>\n",
       "      <td>var_24</td>\n",
       "      <td>0.167054</td>\n",
       "    </tr>\n",
       "    <tr>\n",
       "      <th>2</th>\n",
       "      <td>var_39</td>\n",
       "      <td>0.194210</td>\n",
       "    </tr>\n",
       "    <tr>\n",
       "      <th>3</th>\n",
       "      <td>var_76</td>\n",
       "      <td>0.187360</td>\n",
       "    </tr>\n",
       "    <tr>\n",
       "      <th>4</th>\n",
       "      <td>var_42</td>\n",
       "      <td>0.147102</td>\n",
       "    </tr>\n",
       "    <tr>\n",
       "      <th>5</th>\n",
       "      <td>var_32</td>\n",
       "      <td>0.136807</td>\n",
       "    </tr>\n",
       "  </tbody>\n",
       "</table>\n",
       "</div>"
      ],
      "text/plain": [
       "  features  importance\n",
       "0   var_22    0.167467\n",
       "1   var_24    0.167054\n",
       "2   var_39    0.194210\n",
       "3   var_76    0.187360\n",
       "4   var_42    0.147102\n",
       "5   var_32    0.136807"
      ]
     },
     "execution_count": 85,
     "metadata": {},
     "output_type": "execute_result"
    }
   ],
   "source": [
    "importance.columns = ['features','importance']\n",
    "importance"
   ]
  },
  {
   "cell_type": "code",
   "execution_count": 89,
   "id": "528e5c3e",
   "metadata": {},
   "outputs": [
    {
     "data": {
      "text/html": [
       "<div>\n",
       "<style scoped>\n",
       "    .dataframe tbody tr th:only-of-type {\n",
       "        vertical-align: middle;\n",
       "    }\n",
       "\n",
       "    .dataframe tbody tr th {\n",
       "        vertical-align: top;\n",
       "    }\n",
       "\n",
       "    .dataframe thead th {\n",
       "        text-align: right;\n",
       "    }\n",
       "</style>\n",
       "<table border=\"1\" class=\"dataframe\">\n",
       "  <thead>\n",
       "    <tr style=\"text-align: right;\">\n",
       "      <th></th>\n",
       "      <th>features</th>\n",
       "      <th>importance</th>\n",
       "    </tr>\n",
       "  </thead>\n",
       "  <tbody>\n",
       "    <tr>\n",
       "      <th>2</th>\n",
       "      <td>var_39</td>\n",
       "      <td>0.194210</td>\n",
       "    </tr>\n",
       "    <tr>\n",
       "      <th>3</th>\n",
       "      <td>var_76</td>\n",
       "      <td>0.187360</td>\n",
       "    </tr>\n",
       "    <tr>\n",
       "      <th>0</th>\n",
       "      <td>var_22</td>\n",
       "      <td>0.167467</td>\n",
       "    </tr>\n",
       "    <tr>\n",
       "      <th>1</th>\n",
       "      <td>var_24</td>\n",
       "      <td>0.167054</td>\n",
       "    </tr>\n",
       "    <tr>\n",
       "      <th>4</th>\n",
       "      <td>var_42</td>\n",
       "      <td>0.147102</td>\n",
       "    </tr>\n",
       "    <tr>\n",
       "      <th>5</th>\n",
       "      <td>var_32</td>\n",
       "      <td>0.136807</td>\n",
       "    </tr>\n",
       "  </tbody>\n",
       "</table>\n",
       "</div>"
      ],
      "text/plain": [
       "  features  importance\n",
       "2   var_39    0.194210\n",
       "3   var_76    0.187360\n",
       "0   var_22    0.167467\n",
       "1   var_24    0.167054\n",
       "4   var_42    0.147102\n",
       "5   var_32    0.136807"
      ]
     },
     "execution_count": 89,
     "metadata": {},
     "output_type": "execute_result"
    }
   ],
   "source": [
    "importance.sort_values(by='importance', ascending=False)"
   ]
  },
  {
   "cell_type": "markdown",
   "id": "00aee52c",
   "metadata": {},
   "source": [
    "In this case, feature var_39 shows the highest importance according to random forests. Then, I would select var_39, and remove all the remaining features from this group from the dataset.\n",
    "\n",
    "**Note**\n",
    "\n",
    "None of the 2 procedures for removing correlated features are perfect, and some correlated features may escape the loops of code. So it might be worthwhile checking that after removing the correlated features, there are no correlated features left in the dataset. If there are, repeat the procedure to remove the remaining ones."
   ]
  },
  {
   "cell_type": "code",
   "execution_count": 90,
   "id": "9f29be28",
   "metadata": {},
   "outputs": [
    {
     "data": {
      "image/png": "[encoded data removed]",
      "text/plain": [
       "<Figure size 432x288 with 1 Axes>"
      ]
     },
     "metadata": {
      "needs_background": "light"
     },
     "output_type": "display_data"
    },
    {
     "data": {
      "image/png": "[encoded data removed]",
      "text/plain": [
       "<Figure size 432x288 with 1 Axes>"
      ]
     },
     "metadata": {
      "needs_background": "light"
     },
     "output_type": "display_data"
    },
    {
     "data": {
      "image/png": "[encoded data removed]",
      "text/plain": [
       "<Figure size 432x288 with 1 Axes>"
      ]
     },
     "metadata": {
      "needs_background": "light"
     },
     "output_type": "display_data"
    },
    {
     "data": {
      "image/png": "[encoded data removed]",
      "text/plain": [
       "<Figure size 432x288 with 1 Axes>"
      ]
     },
     "metadata": {
      "needs_background": "light"
     },
     "output_type": "display_data"
    },
    {
     "data": {
      "image/png": "[encoded data removed]",
      "text/plain": [
       "<Figure size 432x288 with 1 Axes>"
      ]
     },
     "metadata": {
      "needs_background": "light"
     },
     "output_type": "display_data"
    }
   ],
   "source": [
    "# let's plot the correlation of the features in the correlated group from the\n",
    "# previous cell\n",
    "\n",
    "for feature in group['feature2']:\n",
    "    plt.scatter(X_train['var_32'], X_train[feature])\n",
    "    plt.xlabel('var_32')\n",
    "    plt.ylabel(feature)\n",
    "    plt.show()"
   ]
  },
  {
   "cell_type": "code",
   "execution_count": null,
   "id": "e9a4fa8d",
   "metadata": {},
   "outputs": [],
   "source": []
  }
 ],
 "metadata": {
  "kernelspec": {
   "display_name": "Python 3 (ipykernel)",
   "language": "python",
   "name": "python3"
  },
  "language_info": {
   "codemirror_mode": {
    "name": "ipython",
    "version": 3
   },
   "file_extension": ".py",
   "mimetype": "text/x-python",
   "name": "python",
   "nbconvert_exporter": "python",
   "pygments_lexer": "ipython3",
   "version": "3.9.5"
  }
 },
 "nbformat": 4,
 "nbformat_minor": 5
}
